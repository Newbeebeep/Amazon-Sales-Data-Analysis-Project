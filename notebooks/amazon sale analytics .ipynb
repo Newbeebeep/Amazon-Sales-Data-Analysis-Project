{
 "cells": [
  {
   "cell_type": "code",
   "execution_count": 1,
   "id": "7b382c80-b195-4beb-a287-41cc700536c7",
   "metadata": {},
   "outputs": [],
   "source": [
    "import pandas as pd\n",
    "import numpy as np\n",
    "import matplotlib.pyplot as plt\n",
    "import seaborn as sns"
   ]
  },
  {
   "cell_type": "markdown",
   "id": "c3e7d887-dd26-4a96-beaf-8c94fb157c86",
   "metadata": {},
   "source": [
    "## Information of the dataset"
   ]
  },
  {
   "cell_type": "code",
   "execution_count": 2,
   "id": "b015985d-397c-4e63-a8fc-ddcd0fbade7a",
   "metadata": {},
   "outputs": [],
   "source": [
    "df = pd.read_csv(r'C:\\Users\\jingl\\NSS Analytics DA14\\Project\\capstones\\amazon sales data\\amazon dataset\\Amazon sales_Raw.csv')"
   ]
  },
  {
   "cell_type": "code",
   "execution_count": 3,
   "id": "3241b835-267f-44c8-8d93-9d9ee82ca815",
   "metadata": {},
   "outputs": [
    {
     "data": {
      "text/html": [
       "<div>\n",
       "<style scoped>\n",
       "    .dataframe tbody tr th:only-of-type {\n",
       "        vertical-align: middle;\n",
       "    }\n",
       "\n",
       "    .dataframe tbody tr th {\n",
       "        vertical-align: top;\n",
       "    }\n",
       "\n",
       "    .dataframe thead th {\n",
       "        text-align: right;\n",
       "    }\n",
       "</style>\n",
       "<table border=\"1\" class=\"dataframe\">\n",
       "  <thead>\n",
       "    <tr style=\"text-align: right;\">\n",
       "      <th></th>\n",
       "      <th>Order ID</th>\n",
       "      <th>Order Date</th>\n",
       "      <th>Ship Date</th>\n",
       "      <th>EmailID</th>\n",
       "      <th>Geography</th>\n",
       "      <th>Category</th>\n",
       "      <th>Product Name</th>\n",
       "      <th>Sales</th>\n",
       "      <th>Quantity</th>\n",
       "      <th>Profit</th>\n",
       "    </tr>\n",
       "  </thead>\n",
       "  <tbody>\n",
       "    <tr>\n",
       "      <th>0</th>\n",
       "      <td>CA-2013-138688</td>\n",
       "      <td>6/13/2013</td>\n",
       "      <td>6/17/2013</td>\n",
       "      <td>DarrinVanHuff@gmail.com</td>\n",
       "      <td>United States,Los Angeles,California</td>\n",
       "      <td>Labels</td>\n",
       "      <td>Self-Adhesive Address Labels for Typewriters b...</td>\n",
       "      <td>14.62</td>\n",
       "      <td>2.0</td>\n",
       "      <td>6.87</td>\n",
       "    </tr>\n",
       "    <tr>\n",
       "      <th>1</th>\n",
       "      <td>CA-2011-115812</td>\n",
       "      <td>6/9/2011</td>\n",
       "      <td>6/14/2011</td>\n",
       "      <td>BrosinaHoffman@gmail.com</td>\n",
       "      <td>United States,Los Angeles,California</td>\n",
       "      <td>Furnishings</td>\n",
       "      <td>Eldon Expressions Wood and Plastic Desk Access...</td>\n",
       "      <td>48.86</td>\n",
       "      <td>7.0</td>\n",
       "      <td>14.17</td>\n",
       "    </tr>\n",
       "    <tr>\n",
       "      <th>2</th>\n",
       "      <td>CA-2011-115812</td>\n",
       "      <td>6/9/2011</td>\n",
       "      <td>6/14/2011</td>\n",
       "      <td>BrosinaHoffman@gmail.com</td>\n",
       "      <td>United States,Los Angeles,California</td>\n",
       "      <td>Art</td>\n",
       "      <td>Newell 322</td>\n",
       "      <td>7.28</td>\n",
       "      <td>4.0</td>\n",
       "      <td>1.97</td>\n",
       "    </tr>\n",
       "    <tr>\n",
       "      <th>3</th>\n",
       "      <td>CA-2011-115812</td>\n",
       "      <td>6/9/2011</td>\n",
       "      <td>6/14/2011</td>\n",
       "      <td>BrosinaHoffman@gmail.com</td>\n",
       "      <td>United States,Los Angeles,California</td>\n",
       "      <td>Phones</td>\n",
       "      <td>Mitel 5320 IP Phone VoIP phone</td>\n",
       "      <td>907.15</td>\n",
       "      <td>4.0</td>\n",
       "      <td>90.72</td>\n",
       "    </tr>\n",
       "    <tr>\n",
       "      <th>4</th>\n",
       "      <td>CA-2011-115812</td>\n",
       "      <td>6/9/2011</td>\n",
       "      <td>6/14/2011</td>\n",
       "      <td>BrosinaHoffman@gmail.com</td>\n",
       "      <td>United States,Los Angeles,California</td>\n",
       "      <td>Binders</td>\n",
       "      <td>DXL Angle-View Binders with Locking Rings by S...</td>\n",
       "      <td>18.50</td>\n",
       "      <td>3.0</td>\n",
       "      <td>5.78</td>\n",
       "    </tr>\n",
       "  </tbody>\n",
       "</table>\n",
       "</div>"
      ],
      "text/plain": [
       "         Order ID Order Date  Ship Date                   EmailID  \\\n",
       "0  CA-2013-138688  6/13/2013  6/17/2013   DarrinVanHuff@gmail.com   \n",
       "1  CA-2011-115812   6/9/2011  6/14/2011  BrosinaHoffman@gmail.com   \n",
       "2  CA-2011-115812   6/9/2011  6/14/2011  BrosinaHoffman@gmail.com   \n",
       "3  CA-2011-115812   6/9/2011  6/14/2011  BrosinaHoffman@gmail.com   \n",
       "4  CA-2011-115812   6/9/2011  6/14/2011  BrosinaHoffman@gmail.com   \n",
       "\n",
       "                              Geography     Category  \\\n",
       "0  United States,Los Angeles,California       Labels   \n",
       "1  United States,Los Angeles,California  Furnishings   \n",
       "2  United States,Los Angeles,California          Art   \n",
       "3  United States,Los Angeles,California       Phones   \n",
       "4  United States,Los Angeles,California      Binders   \n",
       "\n",
       "                                        Product Name   Sales  Quantity  Profit  \n",
       "0  Self-Adhesive Address Labels for Typewriters b...   14.62       2.0    6.87  \n",
       "1  Eldon Expressions Wood and Plastic Desk Access...   48.86       7.0   14.17  \n",
       "2                                         Newell 322    7.28       4.0    1.97  \n",
       "3                     Mitel 5320 IP Phone VoIP phone  907.15       4.0   90.72  \n",
       "4  DXL Angle-View Binders with Locking Rings by S...   18.50       3.0    5.78  "
      ]
     },
     "execution_count": 3,
     "metadata": {},
     "output_type": "execute_result"
    }
   ],
   "source": [
    "df.head()\n"
   ]
  },
  {
   "cell_type": "code",
   "execution_count": 4,
   "id": "baf4adce-81e0-4812-929e-6ad6c9d7c9d1",
   "metadata": {},
   "outputs": [
    {
     "data": {
      "text/plain": [
       "(3203, 10)"
      ]
     },
     "execution_count": 4,
     "metadata": {},
     "output_type": "execute_result"
    }
   ],
   "source": [
    "df.shape"
   ]
  },
  {
   "cell_type": "code",
   "execution_count": 5,
   "id": "eef32820-367f-4d94-8fa5-d01784a91a43",
   "metadata": {},
   "outputs": [
    {
     "data": {
      "text/html": [
       "<div>\n",
       "<style scoped>\n",
       "    .dataframe tbody tr th:only-of-type {\n",
       "        vertical-align: middle;\n",
       "    }\n",
       "\n",
       "    .dataframe tbody tr th {\n",
       "        vertical-align: top;\n",
       "    }\n",
       "\n",
       "    .dataframe thead th {\n",
       "        text-align: right;\n",
       "    }\n",
       "</style>\n",
       "<table border=\"1\" class=\"dataframe\">\n",
       "  <thead>\n",
       "    <tr style=\"text-align: right;\">\n",
       "      <th></th>\n",
       "      <th>Sales</th>\n",
       "      <th>Quantity</th>\n",
       "      <th>Profit</th>\n",
       "    </tr>\n",
       "  </thead>\n",
       "  <tbody>\n",
       "    <tr>\n",
       "      <th>count</th>\n",
       "      <td>3203.000000</td>\n",
       "      <td>3203.000000</td>\n",
       "      <td>3203.000000</td>\n",
       "    </tr>\n",
       "    <tr>\n",
       "      <th>mean</th>\n",
       "      <td>226.493266</td>\n",
       "      <td>3.828910</td>\n",
       "      <td>33.849138</td>\n",
       "    </tr>\n",
       "    <tr>\n",
       "      <th>std</th>\n",
       "      <td>524.876911</td>\n",
       "      <td>2.260947</td>\n",
       "      <td>174.109155</td>\n",
       "    </tr>\n",
       "    <tr>\n",
       "      <th>min</th>\n",
       "      <td>0.990000</td>\n",
       "      <td>1.000000</td>\n",
       "      <td>-3399.980000</td>\n",
       "    </tr>\n",
       "    <tr>\n",
       "      <th>25%</th>\n",
       "      <td>19.440000</td>\n",
       "      <td>2.000000</td>\n",
       "      <td>3.850000</td>\n",
       "    </tr>\n",
       "    <tr>\n",
       "      <th>50%</th>\n",
       "      <td>60.840000</td>\n",
       "      <td>3.000000</td>\n",
       "      <td>11.170000</td>\n",
       "    </tr>\n",
       "    <tr>\n",
       "      <th>75%</th>\n",
       "      <td>215.810000</td>\n",
       "      <td>5.000000</td>\n",
       "      <td>33.000000</td>\n",
       "    </tr>\n",
       "    <tr>\n",
       "      <th>max</th>\n",
       "      <td>13999.960000</td>\n",
       "      <td>14.000000</td>\n",
       "      <td>6719.980000</td>\n",
       "    </tr>\n",
       "  </tbody>\n",
       "</table>\n",
       "</div>"
      ],
      "text/plain": [
       "              Sales     Quantity       Profit\n",
       "count   3203.000000  3203.000000  3203.000000\n",
       "mean     226.493266     3.828910    33.849138\n",
       "std      524.876911     2.260947   174.109155\n",
       "min        0.990000     1.000000 -3399.980000\n",
       "25%       19.440000     2.000000     3.850000\n",
       "50%       60.840000     3.000000    11.170000\n",
       "75%      215.810000     5.000000    33.000000\n",
       "max    13999.960000    14.000000  6719.980000"
      ]
     },
     "execution_count": 5,
     "metadata": {},
     "output_type": "execute_result"
    }
   ],
   "source": [
    "df.describe()"
   ]
  },
  {
   "cell_type": "code",
   "execution_count": 6,
   "id": "12d58fb2-c277-4a6d-b182-e10abc74235a",
   "metadata": {},
   "outputs": [
    {
     "data": {
      "text/plain": [
       "Order ID        0\n",
       "Order Date      0\n",
       "Ship Date       0\n",
       "EmailID         0\n",
       "Geography       0\n",
       "Category        0\n",
       "Product Name    0\n",
       "Sales           0\n",
       "Quantity        0\n",
       "Profit          0\n",
       "dtype: int64"
      ]
     },
     "execution_count": 6,
     "metadata": {},
     "output_type": "execute_result"
    }
   ],
   "source": [
    "df.isnull().sum()"
   ]
  },
  {
   "cell_type": "code",
   "execution_count": 7,
   "id": "8b261a65-4552-474f-bc67-bbf7f25e8057",
   "metadata": {},
   "outputs": [
    {
     "data": {
      "text/plain": [
       "Index(['Order ID', 'Order Date', 'Ship Date', 'EmailID', 'Geography',\n",
       "       'Category', 'Product Name', 'Sales', 'Quantity', 'Profit'],\n",
       "      dtype='object')"
      ]
     },
     "execution_count": 7,
     "metadata": {},
     "output_type": "execute_result"
    }
   ],
   "source": [
    "df.columns"
   ]
  },
  {
   "cell_type": "markdown",
   "id": "6755e3b9-59be-4033-9abc-c3008a370fcb",
   "metadata": {},
   "source": [
    "## CLEAN THE DATE BY TO_DATETIME"
   ]
  },
  {
   "cell_type": "code",
   "execution_count": 8,
   "id": "21b03073-4c9c-4b7d-b44f-3bc766e1f5cb",
   "metadata": {},
   "outputs": [
    {
     "data": {
      "text/html": [
       "<div>\n",
       "<style scoped>\n",
       "    .dataframe tbody tr th:only-of-type {\n",
       "        vertical-align: middle;\n",
       "    }\n",
       "\n",
       "    .dataframe tbody tr th {\n",
       "        vertical-align: top;\n",
       "    }\n",
       "\n",
       "    .dataframe thead th {\n",
       "        text-align: right;\n",
       "    }\n",
       "</style>\n",
       "<table border=\"1\" class=\"dataframe\">\n",
       "  <thead>\n",
       "    <tr style=\"text-align: right;\">\n",
       "      <th></th>\n",
       "      <th>Order ID</th>\n",
       "      <th>Order Date</th>\n",
       "      <th>Ship Date</th>\n",
       "      <th>EmailID</th>\n",
       "      <th>Geography</th>\n",
       "      <th>Category</th>\n",
       "      <th>Product Name</th>\n",
       "      <th>Sales</th>\n",
       "      <th>Quantity</th>\n",
       "      <th>Profit</th>\n",
       "    </tr>\n",
       "  </thead>\n",
       "  <tbody>\n",
       "    <tr>\n",
       "      <th>0</th>\n",
       "      <td>CA-2013-138688</td>\n",
       "      <td>2013-06-13</td>\n",
       "      <td>6/17/2013</td>\n",
       "      <td>DarrinVanHuff@gmail.com</td>\n",
       "      <td>United States,Los Angeles,California</td>\n",
       "      <td>Labels</td>\n",
       "      <td>Self-Adhesive Address Labels for Typewriters b...</td>\n",
       "      <td>14.62</td>\n",
       "      <td>2.0</td>\n",
       "      <td>6.87</td>\n",
       "    </tr>\n",
       "    <tr>\n",
       "      <th>1</th>\n",
       "      <td>CA-2011-115812</td>\n",
       "      <td>2011-06-09</td>\n",
       "      <td>6/14/2011</td>\n",
       "      <td>BrosinaHoffman@gmail.com</td>\n",
       "      <td>United States,Los Angeles,California</td>\n",
       "      <td>Furnishings</td>\n",
       "      <td>Eldon Expressions Wood and Plastic Desk Access...</td>\n",
       "      <td>48.86</td>\n",
       "      <td>7.0</td>\n",
       "      <td>14.17</td>\n",
       "    </tr>\n",
       "    <tr>\n",
       "      <th>2</th>\n",
       "      <td>CA-2011-115812</td>\n",
       "      <td>2011-06-09</td>\n",
       "      <td>6/14/2011</td>\n",
       "      <td>BrosinaHoffman@gmail.com</td>\n",
       "      <td>United States,Los Angeles,California</td>\n",
       "      <td>Art</td>\n",
       "      <td>Newell 322</td>\n",
       "      <td>7.28</td>\n",
       "      <td>4.0</td>\n",
       "      <td>1.97</td>\n",
       "    </tr>\n",
       "    <tr>\n",
       "      <th>3</th>\n",
       "      <td>CA-2011-115812</td>\n",
       "      <td>2011-06-09</td>\n",
       "      <td>6/14/2011</td>\n",
       "      <td>BrosinaHoffman@gmail.com</td>\n",
       "      <td>United States,Los Angeles,California</td>\n",
       "      <td>Phones</td>\n",
       "      <td>Mitel 5320 IP Phone VoIP phone</td>\n",
       "      <td>907.15</td>\n",
       "      <td>4.0</td>\n",
       "      <td>90.72</td>\n",
       "    </tr>\n",
       "    <tr>\n",
       "      <th>4</th>\n",
       "      <td>CA-2011-115812</td>\n",
       "      <td>2011-06-09</td>\n",
       "      <td>6/14/2011</td>\n",
       "      <td>BrosinaHoffman@gmail.com</td>\n",
       "      <td>United States,Los Angeles,California</td>\n",
       "      <td>Binders</td>\n",
       "      <td>DXL Angle-View Binders with Locking Rings by S...</td>\n",
       "      <td>18.50</td>\n",
       "      <td>3.0</td>\n",
       "      <td>5.78</td>\n",
       "    </tr>\n",
       "  </tbody>\n",
       "</table>\n",
       "</div>"
      ],
      "text/plain": [
       "         Order ID Order Date  Ship Date                   EmailID  \\\n",
       "0  CA-2013-138688 2013-06-13  6/17/2013   DarrinVanHuff@gmail.com   \n",
       "1  CA-2011-115812 2011-06-09  6/14/2011  BrosinaHoffman@gmail.com   \n",
       "2  CA-2011-115812 2011-06-09  6/14/2011  BrosinaHoffman@gmail.com   \n",
       "3  CA-2011-115812 2011-06-09  6/14/2011  BrosinaHoffman@gmail.com   \n",
       "4  CA-2011-115812 2011-06-09  6/14/2011  BrosinaHoffman@gmail.com   \n",
       "\n",
       "                              Geography     Category  \\\n",
       "0  United States,Los Angeles,California       Labels   \n",
       "1  United States,Los Angeles,California  Furnishings   \n",
       "2  United States,Los Angeles,California          Art   \n",
       "3  United States,Los Angeles,California       Phones   \n",
       "4  United States,Los Angeles,California      Binders   \n",
       "\n",
       "                                        Product Name   Sales  Quantity  Profit  \n",
       "0  Self-Adhesive Address Labels for Typewriters b...   14.62       2.0    6.87  \n",
       "1  Eldon Expressions Wood and Plastic Desk Access...   48.86       7.0   14.17  \n",
       "2                                         Newell 322    7.28       4.0    1.97  \n",
       "3                     Mitel 5320 IP Phone VoIP phone  907.15       4.0   90.72  \n",
       "4  DXL Angle-View Binders with Locking Rings by S...   18.50       3.0    5.78  "
      ]
     },
     "execution_count": 8,
     "metadata": {},
     "output_type": "execute_result"
    }
   ],
   "source": [
    "df['Order Date'] = pd.to_datetime(df['Order Date'])\n",
    "df.head()"
   ]
  },
  {
   "cell_type": "code",
   "execution_count": 9,
   "id": "dd6531a4-d28c-4c25-a5a0-4c451ba1eccb",
   "metadata": {},
   "outputs": [
    {
     "data": {
      "text/html": [
       "<div>\n",
       "<style scoped>\n",
       "    .dataframe tbody tr th:only-of-type {\n",
       "        vertical-align: middle;\n",
       "    }\n",
       "\n",
       "    .dataframe tbody tr th {\n",
       "        vertical-align: top;\n",
       "    }\n",
       "\n",
       "    .dataframe thead th {\n",
       "        text-align: right;\n",
       "    }\n",
       "</style>\n",
       "<table border=\"1\" class=\"dataframe\">\n",
       "  <thead>\n",
       "    <tr style=\"text-align: right;\">\n",
       "      <th></th>\n",
       "      <th>Order ID</th>\n",
       "      <th>Order Date</th>\n",
       "      <th>Ship Date</th>\n",
       "      <th>EmailID</th>\n",
       "      <th>Geography</th>\n",
       "      <th>Category</th>\n",
       "      <th>Product Name</th>\n",
       "      <th>Sales</th>\n",
       "      <th>Quantity</th>\n",
       "      <th>Profit</th>\n",
       "    </tr>\n",
       "  </thead>\n",
       "  <tbody>\n",
       "    <tr>\n",
       "      <th>0</th>\n",
       "      <td>CA-2013-138688</td>\n",
       "      <td>2013-06-13</td>\n",
       "      <td>2013-06-17</td>\n",
       "      <td>DarrinVanHuff@gmail.com</td>\n",
       "      <td>United States,Los Angeles,California</td>\n",
       "      <td>Labels</td>\n",
       "      <td>Self-Adhesive Address Labels for Typewriters b...</td>\n",
       "      <td>14.62</td>\n",
       "      <td>2.0</td>\n",
       "      <td>6.87</td>\n",
       "    </tr>\n",
       "    <tr>\n",
       "      <th>1</th>\n",
       "      <td>CA-2011-115812</td>\n",
       "      <td>2011-06-09</td>\n",
       "      <td>2011-06-14</td>\n",
       "      <td>BrosinaHoffman@gmail.com</td>\n",
       "      <td>United States,Los Angeles,California</td>\n",
       "      <td>Furnishings</td>\n",
       "      <td>Eldon Expressions Wood and Plastic Desk Access...</td>\n",
       "      <td>48.86</td>\n",
       "      <td>7.0</td>\n",
       "      <td>14.17</td>\n",
       "    </tr>\n",
       "    <tr>\n",
       "      <th>2</th>\n",
       "      <td>CA-2011-115812</td>\n",
       "      <td>2011-06-09</td>\n",
       "      <td>2011-06-14</td>\n",
       "      <td>BrosinaHoffman@gmail.com</td>\n",
       "      <td>United States,Los Angeles,California</td>\n",
       "      <td>Art</td>\n",
       "      <td>Newell 322</td>\n",
       "      <td>7.28</td>\n",
       "      <td>4.0</td>\n",
       "      <td>1.97</td>\n",
       "    </tr>\n",
       "    <tr>\n",
       "      <th>3</th>\n",
       "      <td>CA-2011-115812</td>\n",
       "      <td>2011-06-09</td>\n",
       "      <td>2011-06-14</td>\n",
       "      <td>BrosinaHoffman@gmail.com</td>\n",
       "      <td>United States,Los Angeles,California</td>\n",
       "      <td>Phones</td>\n",
       "      <td>Mitel 5320 IP Phone VoIP phone</td>\n",
       "      <td>907.15</td>\n",
       "      <td>4.0</td>\n",
       "      <td>90.72</td>\n",
       "    </tr>\n",
       "    <tr>\n",
       "      <th>4</th>\n",
       "      <td>CA-2011-115812</td>\n",
       "      <td>2011-06-09</td>\n",
       "      <td>2011-06-14</td>\n",
       "      <td>BrosinaHoffman@gmail.com</td>\n",
       "      <td>United States,Los Angeles,California</td>\n",
       "      <td>Binders</td>\n",
       "      <td>DXL Angle-View Binders with Locking Rings by S...</td>\n",
       "      <td>18.50</td>\n",
       "      <td>3.0</td>\n",
       "      <td>5.78</td>\n",
       "    </tr>\n",
       "  </tbody>\n",
       "</table>\n",
       "</div>"
      ],
      "text/plain": [
       "         Order ID Order Date  Ship Date                   EmailID  \\\n",
       "0  CA-2013-138688 2013-06-13 2013-06-17   DarrinVanHuff@gmail.com   \n",
       "1  CA-2011-115812 2011-06-09 2011-06-14  BrosinaHoffman@gmail.com   \n",
       "2  CA-2011-115812 2011-06-09 2011-06-14  BrosinaHoffman@gmail.com   \n",
       "3  CA-2011-115812 2011-06-09 2011-06-14  BrosinaHoffman@gmail.com   \n",
       "4  CA-2011-115812 2011-06-09 2011-06-14  BrosinaHoffman@gmail.com   \n",
       "\n",
       "                              Geography     Category  \\\n",
       "0  United States,Los Angeles,California       Labels   \n",
       "1  United States,Los Angeles,California  Furnishings   \n",
       "2  United States,Los Angeles,California          Art   \n",
       "3  United States,Los Angeles,California       Phones   \n",
       "4  United States,Los Angeles,California      Binders   \n",
       "\n",
       "                                        Product Name   Sales  Quantity  Profit  \n",
       "0  Self-Adhesive Address Labels for Typewriters b...   14.62       2.0    6.87  \n",
       "1  Eldon Expressions Wood and Plastic Desk Access...   48.86       7.0   14.17  \n",
       "2                                         Newell 322    7.28       4.0    1.97  \n",
       "3                     Mitel 5320 IP Phone VoIP phone  907.15       4.0   90.72  \n",
       "4  DXL Angle-View Binders with Locking Rings by S...   18.50       3.0    5.78  "
      ]
     },
     "execution_count": 9,
     "metadata": {},
     "output_type": "execute_result"
    }
   ],
   "source": [
    "df['Ship Date'] = pd.to_datetime(df['Ship Date'])\n",
    "df.head()"
   ]
  },
  {
   "cell_type": "markdown",
   "id": "5977c7fd-55f3-4f22-b366-4683d938fd94",
   "metadata": {},
   "source": [
    "## Which is the highest selling category?"
   ]
  },
  {
   "cell_type": "code",
   "execution_count": 10,
   "id": "88deda4a-a6ae-4d4f-9561-43c72a41fdbe",
   "metadata": {},
   "outputs": [],
   "source": [
    "category_sales = df.groupby('Category')['Sales'].sum().sort_values(ascending = False)"
   ]
  },
  {
   "cell_type": "code",
   "execution_count": 11,
   "id": "c912bf0a-85a1-49d6-ae09-3a6f8961136d",
   "metadata": {},
   "outputs": [
    {
     "data": {
      "text/plain": [
       "Category\n",
       "Chairs         101781.36\n",
       "Phones          98684.39\n",
       "Tables          84754.60\n",
       "Storage         70532.84\n",
       "Accessories     61114.10\n",
       "Name: Sales, dtype: float64"
      ]
     },
     "execution_count": 11,
     "metadata": {},
     "output_type": "execute_result"
    }
   ],
   "source": [
    "category_sales.head()"
   ]
  },
  {
   "cell_type": "code",
   "execution_count": 12,
   "id": "3eaaa7d9-42d2-4816-9610-5ba203748066",
   "metadata": {},
   "outputs": [
    {
     "data": {
      "image/png": "[encoded data removed]",
      "text/plain": [
       "<Figure size 800x500 with 1 Axes>"
      ]
     },
     "metadata": {},
     "output_type": "display_data"
    }
   ],
   "source": [
    "category_sales.plot(kind='bar', figsize=(8, 5), title='Total Sales by Category')\n",
    "plt.ylabel('Total Sales')\n",
    "plt.xlabel('Category')\n",
    "plt.xticks(rotation=45)\n",
    "plt.tight_layout()\n",
    "plt.show()\n"
   ]
  },
  {
   "cell_type": "markdown",
   "id": "5aa728d2-3f54-46b1-a25e-f5b1605a8b7d",
   "metadata": {},
   "source": [
    "## Answer: The highest selling category is Chairs "
   ]
  },
  {
   "cell_type": "markdown",
   "id": "f367100c-56b6-4a00-97df-a70bd7ebd50e",
   "metadata": {},
   "source": [
    "## Whhich month is the best selling time ?"
   ]
  },
  {
   "cell_type": "code",
   "execution_count": 13,
   "id": "699c181c-f422-4fbc-9a16-b7d2959b96ac",
   "metadata": {},
   "outputs": [],
   "source": [
    "day_sales = df.groupby('Order Date')['Sales'].sum().sort_values(ascending = False)"
   ]
  },
  {
   "cell_type": "code",
   "execution_count": 14,
   "id": "a148e96c-d334-484d-a312-5003c214fff0",
   "metadata": {},
   "outputs": [
    {
     "data": {
      "text/plain": [
       "Order Date\n",
       "2014-03-24    14299.08\n",
       "2011-07-25     8341.29\n",
       "2013-03-11     7662.96\n",
       "2012-12-01     6956.64\n",
       "2014-08-19     6522.65\n",
       "                ...   \n",
       "2012-03-08        3.41\n",
       "2014-09-06        2.78\n",
       "2012-11-09        2.48\n",
       "2012-07-19        2.03\n",
       "2014-07-10        1.08\n",
       "Name: Sales, Length: 845, dtype: float64"
      ]
     },
     "execution_count": 14,
     "metadata": {},
     "output_type": "execute_result"
    }
   ],
   "source": [
    "day_sales"
   ]
  },
  {
   "cell_type": "code",
   "execution_count": 15,
   "id": "dcf148b4-a3e3-4f02-9ef7-152f4058f972",
   "metadata": {},
   "outputs": [],
   "source": [
    "df['Month'] = df['Order Date'].dt.month"
   ]
  },
  {
   "cell_type": "code",
   "execution_count": 16,
   "id": "99a07ac5-e5ae-4f2f-9130-8b19ba7ad2c4",
   "metadata": {},
   "outputs": [],
   "source": [
    "monthly_sales = df.groupby('Month')['Sales'].sum().sort_values(ascending=False)"
   ]
  },
  {
   "cell_type": "code",
   "execution_count": 17,
   "id": "650ee2d3-860f-4a16-a554-ccc4bef22afc",
   "metadata": {},
   "outputs": [
    {
     "data": {
      "text/plain": [
       "Month\n",
       "12    115934.58\n",
       "11     93068.81\n",
       "9      81618.46\n",
       "3      73023.73\n",
       "7      64706.95\n",
       "8      62674.32\n",
       "10     57436.79\n",
       "6      48519.54\n",
       "5      45320.89\n",
       "4      41966.59\n",
       "1      24918.63\n",
       "2      16268.64\n",
       "Name: Sales, dtype: float64"
      ]
     },
     "execution_count": 17,
     "metadata": {},
     "output_type": "execute_result"
    }
   ],
   "source": [
    "monthly_sales"
   ]
  },
  {
   "cell_type": "code",
   "execution_count": 18,
   "id": "2caef480-5f6d-4c36-9a09-1bf143d11ffa",
   "metadata": {},
   "outputs": [
    {
     "data": {
      "text/plain": [
       "np.int32(12)"
      ]
     },
     "execution_count": 18,
     "metadata": {},
     "output_type": "execute_result"
    }
   ],
   "source": [
    "best_month = monthly_sales.idxmax()\n",
    "best_month"
   ]
  },
  {
   "cell_type": "code",
   "execution_count": 19,
   "id": "1597b19e-6e4a-4eef-86e1-023e0975899e",
   "metadata": {},
   "outputs": [
    {
     "data": {
      "image/png": "[encoded data removed]",
      "text/plain": [
       "<Figure size 800x500 with 1 Axes>"
      ]
     },
     "metadata": {},
     "output_type": "display_data"
    }
   ],
   "source": [
    "monthly_sales.sort_index().plot(kind='bar', figsize=(8,5), title='Total Sales by Month')\n",
    "plt.xlabel('Month')\n",
    "plt.ylabel('Total Sales')\n",
    "plt.xticks(rotation=0)\n",
    "plt.tight_layout()\n",
    "plt.show()"
   ]
  },
  {
   "cell_type": "markdown",
   "id": "69649e0a-cb35-45e1-a4ca-60534cb04953",
   "metadata": {},
   "source": [
    "## Answer: The best month is December "
   ]
  },
  {
   "cell_type": "markdown",
   "id": "dc963786-aad3-4c74-9865-1f0adfe5e452",
   "metadata": {},
   "source": [
    "## Which area is the best selling city? Which is the lowest selling city?"
   ]
  },
  {
   "cell_type": "code",
   "execution_count": 20,
   "id": "d320434c-8991-4b6c-8f04-32a8c9c0b075",
   "metadata": {},
   "outputs": [
    {
     "data": {
      "text/plain": [
       "Index(['Order ID', 'Order Date', 'Ship Date', 'EmailID', 'Geography',\n",
       "       'Category', 'Product Name', 'Sales', 'Quantity', 'Profit', 'Month'],\n",
       "      dtype='object')"
      ]
     },
     "execution_count": 20,
     "metadata": {},
     "output_type": "execute_result"
    }
   ],
   "source": [
    "df.columns"
   ]
  },
  {
   "cell_type": "code",
   "execution_count": 21,
   "id": "6563dd08-78b1-4870-97fb-cdd01c4b75a8",
   "metadata": {},
   "outputs": [
    {
     "data": {
      "text/plain": [
       "71           United States,San Diego,California\n",
       "2703          United States,Great Falls,Montana\n",
       "2354       United States,Los Angeles,California\n",
       "1747       United States,Los Angeles,California\n",
       "82                United States,Portland,Oregon\n",
       "2524     United States,Moreno Valley,California\n",
       "2786           United States,Seattle,Washington\n",
       "1531    United States,Colorado Springs,Colorado\n",
       "1156       United States,Los Angeles,California\n",
       "1606       United States,Los Angeles,California\n",
       "Name: Geography, dtype: object"
      ]
     },
     "execution_count": 21,
     "metadata": {},
     "output_type": "execute_result"
    }
   ],
   "source": [
    "df['Geography'].sample(10)  "
   ]
  },
  {
   "cell_type": "code",
   "execution_count": 22,
   "id": "fe9a3c0d-3688-4522-b7b0-e92b636a7b8c",
   "metadata": {},
   "outputs": [
    {
     "data": {
      "text/plain": [
       "array(['United States,Los Angeles,California',\n",
       "       'United States,Seattle,Washington',\n",
       "       'United States,West Jordan,Utah',\n",
       "       'United States,San Francisco,California',\n",
       "       'United States,Orem,Utah', 'United States,Gilbert,Arizona',\n",
       "       'United States,Portland,Oregon', 'United States,Aurora,Colorado',\n",
       "       'United States,Phoenix,Arizona',\n",
       "       'United States,Roseville,California',\n",
       "       'United States,Pasadena,California',\n",
       "       'United States,Scottsdale,Arizona',\n",
       "       'United States,San Jose,California',\n",
       "       'United States,Carlsbad,New Mexico',\n",
       "       'United States,Redlands,California',\n",
       "       'United States,Denver,Colorado',\n",
       "       'United States,Whittier,California',\n",
       "       'United States,Santa Clara,California',\n",
       "       'United States,San Diego,California',\n",
       "       'United States,Brentwood,California'], dtype=object)"
      ]
     },
     "execution_count": 22,
     "metadata": {},
     "output_type": "execute_result"
    }
   ],
   "source": [
    "df['Geography'].unique()[:20]"
   ]
  },
  {
   "cell_type": "code",
   "execution_count": 23,
   "id": "8527816e-c383-465b-a059-dd207cc3e9e5",
   "metadata": {},
   "outputs": [
    {
     "data": {
      "text/html": [
       "<div>\n",
       "<style scoped>\n",
       "    .dataframe tbody tr th:only-of-type {\n",
       "        vertical-align: middle;\n",
       "    }\n",
       "\n",
       "    .dataframe tbody tr th {\n",
       "        vertical-align: top;\n",
       "    }\n",
       "\n",
       "    .dataframe thead th {\n",
       "        text-align: right;\n",
       "    }\n",
       "</style>\n",
       "<table border=\"1\" class=\"dataframe\">\n",
       "  <thead>\n",
       "    <tr style=\"text-align: right;\">\n",
       "      <th></th>\n",
       "      <th>Country</th>\n",
       "      <th>City</th>\n",
       "      <th>State</th>\n",
       "    </tr>\n",
       "  </thead>\n",
       "  <tbody>\n",
       "    <tr>\n",
       "      <th>0</th>\n",
       "      <td>United States</td>\n",
       "      <td>Los Angeles</td>\n",
       "      <td>California</td>\n",
       "    </tr>\n",
       "    <tr>\n",
       "      <th>1</th>\n",
       "      <td>United States</td>\n",
       "      <td>Los Angeles</td>\n",
       "      <td>California</td>\n",
       "    </tr>\n",
       "    <tr>\n",
       "      <th>2</th>\n",
       "      <td>United States</td>\n",
       "      <td>Los Angeles</td>\n",
       "      <td>California</td>\n",
       "    </tr>\n",
       "    <tr>\n",
       "      <th>3</th>\n",
       "      <td>United States</td>\n",
       "      <td>Los Angeles</td>\n",
       "      <td>California</td>\n",
       "    </tr>\n",
       "    <tr>\n",
       "      <th>4</th>\n",
       "      <td>United States</td>\n",
       "      <td>Los Angeles</td>\n",
       "      <td>California</td>\n",
       "    </tr>\n",
       "  </tbody>\n",
       "</table>\n",
       "</div>"
      ],
      "text/plain": [
       "         Country         City       State\n",
       "0  United States  Los Angeles  California\n",
       "1  United States  Los Angeles  California\n",
       "2  United States  Los Angeles  California\n",
       "3  United States  Los Angeles  California\n",
       "4  United States  Los Angeles  California"
      ]
     },
     "execution_count": 23,
     "metadata": {},
     "output_type": "execute_result"
    }
   ],
   "source": [
    "df[['Country', 'City', 'State']] = df['Geography'].str.split(',', expand=True)\n",
    "df[['Country', 'City', 'State']].head()"
   ]
  },
  {
   "cell_type": "code",
   "execution_count": 24,
   "id": "3589ae7a-9c45-4bdc-911f-e0657e49b648",
   "metadata": {},
   "outputs": [
    {
     "data": {
      "text/plain": [
       "0       United States\n",
       "1       United States\n",
       "2       United States\n",
       "3       United States\n",
       "4       United States\n",
       "            ...      \n",
       "3198    United States\n",
       "3199    United States\n",
       "3200    United States\n",
       "3201    United States\n",
       "3202    United States\n",
       "Name: Country, Length: 3203, dtype: object"
      ]
     },
     "execution_count": 24,
     "metadata": {},
     "output_type": "execute_result"
    }
   ],
   "source": [
    "df['Country'] = df['Country'].str.strip()\n",
    "df['Country'] "
   ]
  },
  {
   "cell_type": "code",
   "execution_count": 25,
   "id": "d3589b4f-4e46-41d2-9bcf-b9632fc5eaf1",
   "metadata": {},
   "outputs": [
    {
     "data": {
      "text/plain": [
       "0       Los Angeles\n",
       "1       Los Angeles\n",
       "2       Los Angeles\n",
       "3       Los Angeles\n",
       "4       Los Angeles\n",
       "           ...     \n",
       "3198    Los Angeles\n",
       "3199     Costa Mesa\n",
       "3200     Costa Mesa\n",
       "3201     Costa Mesa\n",
       "3202    Westminster\n",
       "Name: City, Length: 3203, dtype: object"
      ]
     },
     "execution_count": 25,
     "metadata": {},
     "output_type": "execute_result"
    }
   ],
   "source": [
    "df['City'] = df['City'].str.strip()\n",
    "df['City']"
   ]
  },
  {
   "cell_type": "code",
   "execution_count": 26,
   "id": "fc7f5f96-bdc9-461a-887c-cd487bcdbaa8",
   "metadata": {},
   "outputs": [
    {
     "data": {
      "text/plain": [
       "0       California\n",
       "1       California\n",
       "2       California\n",
       "3       California\n",
       "4       California\n",
       "           ...    \n",
       "3198    California\n",
       "3199    California\n",
       "3200    California\n",
       "3201    California\n",
       "3202    California\n",
       "Name: State, Length: 3203, dtype: object"
      ]
     },
     "execution_count": 26,
     "metadata": {},
     "output_type": "execute_result"
    }
   ],
   "source": [
    "df['State'] = df['State'].str.strip()\n",
    "df['State']"
   ]
  },
  {
   "cell_type": "code",
   "execution_count": 27,
   "id": "85fb9a0a-e8e3-4bd5-9b9c-d37702a8671c",
   "metadata": {},
   "outputs": [
    {
     "data": {
      "text/plain": [
       "City\n",
       "Los Angeles        175851.33\n",
       "Seattle            119540.74\n",
       "San Francisco      112669.09\n",
       "San Diego           47521.05\n",
       "Denver              12198.78\n",
       "                     ...    \n",
       "Billings                8.29\n",
       "Layton                  4.96\n",
       "Auburn                  4.18\n",
       "Everett                 3.86\n",
       "San Luis Obispo         3.62\n",
       "Name: Sales, Length: 169, dtype: float64"
      ]
     },
     "execution_count": 27,
     "metadata": {},
     "output_type": "execute_result"
    }
   ],
   "source": [
    "city_sales = df.groupby('City')['Sales'].sum().sort_values(ascending=False)\n",
    "city_sales"
   ]
  },
  {
   "cell_type": "code",
   "execution_count": 28,
   "id": "67f4dfa2-2fdf-44b1-82c2-ea69493cdf0a",
   "metadata": {},
   "outputs": [
    {
     "data": {
      "text/plain": [
       "'Los Angeles'"
      ]
     },
     "execution_count": 28,
     "metadata": {},
     "output_type": "execute_result"
    }
   ],
   "source": [
    "top_city = city_sales.idxmax()\n",
    "top_city "
   ]
  },
  {
   "cell_type": "code",
   "execution_count": 29,
   "id": "b858cc61-b2bb-4125-8ee8-07e926c79e40",
   "metadata": {},
   "outputs": [
    {
     "data": {
      "text/plain": [
       "'San Luis Obispo'"
      ]
     },
     "execution_count": 29,
     "metadata": {},
     "output_type": "execute_result"
    }
   ],
   "source": [
    "bottom_city = city_sales.idxmin()\n",
    "bottom_city"
   ]
  },
  {
   "cell_type": "code",
   "execution_count": 30,
   "id": "b2ecef8a-4f10-496e-b2ae-923aeaf6416d",
   "metadata": {},
   "outputs": [],
   "source": [
    "df.to_csv('city_sales_cleaned.csv', index=False)"
   ]
  },
  {
   "cell_type": "markdown",
   "id": "c6bd8625-fc58-4ce9-b993-6919a185e76f",
   "metadata": {},
   "source": [
    "## Time Series Forecast"
   ]
  },
  {
   "cell_type": "code",
   "execution_count": 36,
   "id": "2754ccf2-4307-4e1f-bf88-e72429495714",
   "metadata": {},
   "outputs": [
    {
     "data": {
      "text/plain": [
       "Index(['Order ID', 'Order Date', 'Ship Date', 'EmailID', 'Geography',\n",
       "       'Category', 'Product Name', 'Sales', 'Quantity', 'Profit', 'Month',\n",
       "       'Country', 'City', 'State', 'Order Month'],\n",
       "      dtype='object')"
      ]
     },
     "execution_count": 36,
     "metadata": {},
     "output_type": "execute_result"
    }
   ],
   "source": [
    "df.columns"
   ]
  },
  {
   "cell_type": "code",
   "execution_count": 37,
   "id": "7c17af4a-46cd-4805-8f59-5413501534c2",
   "metadata": {},
   "outputs": [
    {
     "data": {
      "text/plain": [
       "0       2013-06\n",
       "1       2011-06\n",
       "2       2011-06\n",
       "3       2011-06\n",
       "4       2011-06\n",
       "         ...   \n",
       "3198    2013-09\n",
       "3199    2014-02\n",
       "3200    2014-02\n",
       "3201    2014-02\n",
       "3202    2014-05\n",
       "Name: Order Month, Length: 3203, dtype: period[M]"
      ]
     },
     "execution_count": 37,
     "metadata": {},
     "output_type": "execute_result"
    }
   ],
   "source": [
    "df['Order Month'] = df['Order Date'].dt.to_period('M')\n",
    "df['Order Month'] "
   ]
  },
  {
   "cell_type": "code",
   "execution_count": 38,
   "id": "3482687b-3f98-4933-9eb0-50c12502bc1e",
   "metadata": {},
   "outputs": [
    {
     "data": {
      "text/html": [
       "<div>\n",
       "<style scoped>\n",
       "    .dataframe tbody tr th:only-of-type {\n",
       "        vertical-align: middle;\n",
       "    }\n",
       "\n",
       "    .dataframe tbody tr th {\n",
       "        vertical-align: top;\n",
       "    }\n",
       "\n",
       "    .dataframe thead th {\n",
       "        text-align: right;\n",
       "    }\n",
       "</style>\n",
       "<table border=\"1\" class=\"dataframe\">\n",
       "  <thead>\n",
       "    <tr style=\"text-align: right;\">\n",
       "      <th></th>\n",
       "      <th>Order Month</th>\n",
       "      <th>Sales</th>\n",
       "    </tr>\n",
       "  </thead>\n",
       "  <tbody>\n",
       "    <tr>\n",
       "      <th>0</th>\n",
       "      <td>2011-01</td>\n",
       "      <td>2648.05</td>\n",
       "    </tr>\n",
       "    <tr>\n",
       "      <th>1</th>\n",
       "      <td>2011-02</td>\n",
       "      <td>1348.64</td>\n",
       "    </tr>\n",
       "    <tr>\n",
       "      <th>2</th>\n",
       "      <td>2011-03</td>\n",
       "      <td>11008.91</td>\n",
       "    </tr>\n",
       "    <tr>\n",
       "      <th>3</th>\n",
       "      <td>2011-04</td>\n",
       "      <td>9343.49</td>\n",
       "    </tr>\n",
       "    <tr>\n",
       "      <th>4</th>\n",
       "      <td>2011-05</td>\n",
       "      <td>6570.44</td>\n",
       "    </tr>\n",
       "    <tr>\n",
       "      <th>5</th>\n",
       "      <td>2011-06</td>\n",
       "      <td>9629.41</td>\n",
       "    </tr>\n",
       "    <tr>\n",
       "      <th>6</th>\n",
       "      <td>2011-07</td>\n",
       "      <td>21808.55</td>\n",
       "    </tr>\n",
       "    <tr>\n",
       "      <th>7</th>\n",
       "      <td>2011-08</td>\n",
       "      <td>13248.24</td>\n",
       "    </tr>\n",
       "    <tr>\n",
       "      <th>8</th>\n",
       "      <td>2011-09</td>\n",
       "      <td>14900.55</td>\n",
       "    </tr>\n",
       "    <tr>\n",
       "      <th>9</th>\n",
       "      <td>2011-10</td>\n",
       "      <td>8728.75</td>\n",
       "    </tr>\n",
       "    <tr>\n",
       "      <th>10</th>\n",
       "      <td>2011-11</td>\n",
       "      <td>23191.63</td>\n",
       "    </tr>\n",
       "    <tr>\n",
       "      <th>11</th>\n",
       "      <td>2011-12</td>\n",
       "      <td>25456.41</td>\n",
       "    </tr>\n",
       "    <tr>\n",
       "      <th>12</th>\n",
       "      <td>2012-01</td>\n",
       "      <td>6026.74</td>\n",
       "    </tr>\n",
       "    <tr>\n",
       "      <th>13</th>\n",
       "      <td>2012-02</td>\n",
       "      <td>2004.90</td>\n",
       "    </tr>\n",
       "    <tr>\n",
       "      <th>14</th>\n",
       "      <td>2012-03</td>\n",
       "      <td>15461.42</td>\n",
       "    </tr>\n",
       "  </tbody>\n",
       "</table>\n",
       "</div>"
      ],
      "text/plain": [
       "   Order Month     Sales\n",
       "0      2011-01   2648.05\n",
       "1      2011-02   1348.64\n",
       "2      2011-03  11008.91\n",
       "3      2011-04   9343.49\n",
       "4      2011-05   6570.44\n",
       "5      2011-06   9629.41\n",
       "6      2011-07  21808.55\n",
       "7      2011-08  13248.24\n",
       "8      2011-09  14900.55\n",
       "9      2011-10   8728.75\n",
       "10     2011-11  23191.63\n",
       "11     2011-12  25456.41\n",
       "12     2012-01   6026.74\n",
       "13     2012-02   2004.90\n",
       "14     2012-03  15461.42"
      ]
     },
     "execution_count": 38,
     "metadata": {},
     "output_type": "execute_result"
    }
   ],
   "source": [
    "monthly_sales = df.groupby('Order Month')['Sales'].sum().reset_index()\n",
    "monthly_sales.head(15)"
   ]
  },
  {
   "cell_type": "code",
   "execution_count": 39,
   "id": "772783f8-5d1a-4349-9d5c-29385651dd00",
   "metadata": {},
   "outputs": [],
   "source": [
    "monthly_sales['Order Month'] = monthly_sales['Order Month'].dt.to_timestamp()"
   ]
  },
  {
   "cell_type": "code",
   "execution_count": 40,
   "id": "3deb0496-8454-4c8d-b1de-ac8c597d1202",
   "metadata": {},
   "outputs": [
    {
     "data": {
      "text/html": [
       "<div>\n",
       "<style scoped>\n",
       "    .dataframe tbody tr th:only-of-type {\n",
       "        vertical-align: middle;\n",
       "    }\n",
       "\n",
       "    .dataframe tbody tr th {\n",
       "        vertical-align: top;\n",
       "    }\n",
       "\n",
       "    .dataframe thead th {\n",
       "        text-align: right;\n",
       "    }\n",
       "</style>\n",
       "<table border=\"1\" class=\"dataframe\">\n",
       "  <thead>\n",
       "    <tr style=\"text-align: right;\">\n",
       "      <th></th>\n",
       "      <th>Order Month</th>\n",
       "      <th>Sales</th>\n",
       "    </tr>\n",
       "  </thead>\n",
       "  <tbody>\n",
       "    <tr>\n",
       "      <th>0</th>\n",
       "      <td>2011-01-01</td>\n",
       "      <td>2648.05</td>\n",
       "    </tr>\n",
       "    <tr>\n",
       "      <th>1</th>\n",
       "      <td>2011-02-01</td>\n",
       "      <td>1348.64</td>\n",
       "    </tr>\n",
       "    <tr>\n",
       "      <th>2</th>\n",
       "      <td>2011-03-01</td>\n",
       "      <td>11008.91</td>\n",
       "    </tr>\n",
       "    <tr>\n",
       "      <th>3</th>\n",
       "      <td>2011-04-01</td>\n",
       "      <td>9343.49</td>\n",
       "    </tr>\n",
       "    <tr>\n",
       "      <th>4</th>\n",
       "      <td>2011-05-01</td>\n",
       "      <td>6570.44</td>\n",
       "    </tr>\n",
       "    <tr>\n",
       "      <th>5</th>\n",
       "      <td>2011-06-01</td>\n",
       "      <td>9629.41</td>\n",
       "    </tr>\n",
       "    <tr>\n",
       "      <th>6</th>\n",
       "      <td>2011-07-01</td>\n",
       "      <td>21808.55</td>\n",
       "    </tr>\n",
       "    <tr>\n",
       "      <th>7</th>\n",
       "      <td>2011-08-01</td>\n",
       "      <td>13248.24</td>\n",
       "    </tr>\n",
       "    <tr>\n",
       "      <th>8</th>\n",
       "      <td>2011-09-01</td>\n",
       "      <td>14900.55</td>\n",
       "    </tr>\n",
       "    <tr>\n",
       "      <th>9</th>\n",
       "      <td>2011-10-01</td>\n",
       "      <td>8728.75</td>\n",
       "    </tr>\n",
       "    <tr>\n",
       "      <th>10</th>\n",
       "      <td>2011-11-01</td>\n",
       "      <td>23191.63</td>\n",
       "    </tr>\n",
       "    <tr>\n",
       "      <th>11</th>\n",
       "      <td>2011-12-01</td>\n",
       "      <td>25456.41</td>\n",
       "    </tr>\n",
       "    <tr>\n",
       "      <th>12</th>\n",
       "      <td>2012-01-01</td>\n",
       "      <td>6026.74</td>\n",
       "    </tr>\n",
       "    <tr>\n",
       "      <th>13</th>\n",
       "      <td>2012-02-01</td>\n",
       "      <td>2004.90</td>\n",
       "    </tr>\n",
       "    <tr>\n",
       "      <th>14</th>\n",
       "      <td>2012-03-01</td>\n",
       "      <td>15461.42</td>\n",
       "    </tr>\n",
       "    <tr>\n",
       "      <th>15</th>\n",
       "      <td>2012-04-01</td>\n",
       "      <td>9056.03</td>\n",
       "    </tr>\n",
       "    <tr>\n",
       "      <th>16</th>\n",
       "      <td>2012-05-01</td>\n",
       "      <td>12042.67</td>\n",
       "    </tr>\n",
       "    <tr>\n",
       "      <th>17</th>\n",
       "      <td>2012-06-01</td>\n",
       "      <td>5088.96</td>\n",
       "    </tr>\n",
       "    <tr>\n",
       "      <th>18</th>\n",
       "      <td>2012-07-01</td>\n",
       "      <td>7089.84</td>\n",
       "    </tr>\n",
       "    <tr>\n",
       "      <th>19</th>\n",
       "      <td>2012-08-01</td>\n",
       "      <td>12548.35</td>\n",
       "    </tr>\n",
       "    <tr>\n",
       "      <th>20</th>\n",
       "      <td>2012-09-01</td>\n",
       "      <td>13898.91</td>\n",
       "    </tr>\n",
       "    <tr>\n",
       "      <th>21</th>\n",
       "      <td>2012-10-01</td>\n",
       "      <td>14016.66</td>\n",
       "    </tr>\n",
       "    <tr>\n",
       "      <th>22</th>\n",
       "      <td>2012-11-01</td>\n",
       "      <td>14548.89</td>\n",
       "    </tr>\n",
       "    <tr>\n",
       "      <th>23</th>\n",
       "      <td>2012-12-01</td>\n",
       "      <td>28182.87</td>\n",
       "    </tr>\n",
       "    <tr>\n",
       "      <th>24</th>\n",
       "      <td>2013-01-01</td>\n",
       "      <td>3657.83</td>\n",
       "    </tr>\n",
       "    <tr>\n",
       "      <th>25</th>\n",
       "      <td>2013-02-01</td>\n",
       "      <td>3100.17</td>\n",
       "    </tr>\n",
       "    <tr>\n",
       "      <th>26</th>\n",
       "      <td>2013-03-01</td>\n",
       "      <td>17559.00</td>\n",
       "    </tr>\n",
       "    <tr>\n",
       "      <th>27</th>\n",
       "      <td>2013-04-01</td>\n",
       "      <td>10370.14</td>\n",
       "    </tr>\n",
       "    <tr>\n",
       "      <th>28</th>\n",
       "      <td>2013-05-01</td>\n",
       "      <td>10806.15</td>\n",
       "    </tr>\n",
       "    <tr>\n",
       "      <th>29</th>\n",
       "      <td>2013-06-01</td>\n",
       "      <td>18598.09</td>\n",
       "    </tr>\n",
       "    <tr>\n",
       "      <th>30</th>\n",
       "      <td>2013-07-01</td>\n",
       "      <td>14417.78</td>\n",
       "    </tr>\n",
       "    <tr>\n",
       "      <th>31</th>\n",
       "      <td>2013-08-01</td>\n",
       "      <td>12680.97</td>\n",
       "    </tr>\n",
       "    <tr>\n",
       "      <th>32</th>\n",
       "      <td>2013-09-01</td>\n",
       "      <td>23620.90</td>\n",
       "    </tr>\n",
       "    <tr>\n",
       "      <th>33</th>\n",
       "      <td>2013-10-01</td>\n",
       "      <td>13135.38</td>\n",
       "    </tr>\n",
       "    <tr>\n",
       "      <th>34</th>\n",
       "      <td>2013-11-01</td>\n",
       "      <td>26412.33</td>\n",
       "    </tr>\n",
       "    <tr>\n",
       "      <th>35</th>\n",
       "      <td>2013-12-01</td>\n",
       "      <td>32617.35</td>\n",
       "    </tr>\n",
       "    <tr>\n",
       "      <th>36</th>\n",
       "      <td>2014-01-01</td>\n",
       "      <td>12586.01</td>\n",
       "    </tr>\n",
       "    <tr>\n",
       "      <th>37</th>\n",
       "      <td>2014-02-01</td>\n",
       "      <td>9814.93</td>\n",
       "    </tr>\n",
       "    <tr>\n",
       "      <th>38</th>\n",
       "      <td>2014-03-01</td>\n",
       "      <td>28994.40</td>\n",
       "    </tr>\n",
       "    <tr>\n",
       "      <th>39</th>\n",
       "      <td>2014-04-01</td>\n",
       "      <td>13196.93</td>\n",
       "    </tr>\n",
       "    <tr>\n",
       "      <th>40</th>\n",
       "      <td>2014-05-01</td>\n",
       "      <td>15901.63</td>\n",
       "    </tr>\n",
       "    <tr>\n",
       "      <th>41</th>\n",
       "      <td>2014-06-01</td>\n",
       "      <td>15203.08</td>\n",
       "    </tr>\n",
       "    <tr>\n",
       "      <th>42</th>\n",
       "      <td>2014-07-01</td>\n",
       "      <td>21390.78</td>\n",
       "    </tr>\n",
       "    <tr>\n",
       "      <th>43</th>\n",
       "      <td>2014-08-01</td>\n",
       "      <td>24196.76</td>\n",
       "    </tr>\n",
       "    <tr>\n",
       "      <th>44</th>\n",
       "      <td>2014-09-01</td>\n",
       "      <td>29198.10</td>\n",
       "    </tr>\n",
       "    <tr>\n",
       "      <th>45</th>\n",
       "      <td>2014-10-01</td>\n",
       "      <td>21556.00</td>\n",
       "    </tr>\n",
       "    <tr>\n",
       "      <th>46</th>\n",
       "      <td>2014-11-01</td>\n",
       "      <td>28915.96</td>\n",
       "    </tr>\n",
       "    <tr>\n",
       "      <th>47</th>\n",
       "      <td>2014-12-01</td>\n",
       "      <td>29677.95</td>\n",
       "    </tr>\n",
       "  </tbody>\n",
       "</table>\n",
       "</div>"
      ],
      "text/plain": [
       "   Order Month     Sales\n",
       "0   2011-01-01   2648.05\n",
       "1   2011-02-01   1348.64\n",
       "2   2011-03-01  11008.91\n",
       "3   2011-04-01   9343.49\n",
       "4   2011-05-01   6570.44\n",
       "5   2011-06-01   9629.41\n",
       "6   2011-07-01  21808.55\n",
       "7   2011-08-01  13248.24\n",
       "8   2011-09-01  14900.55\n",
       "9   2011-10-01   8728.75\n",
       "10  2011-11-01  23191.63\n",
       "11  2011-12-01  25456.41\n",
       "12  2012-01-01   6026.74\n",
       "13  2012-02-01   2004.90\n",
       "14  2012-03-01  15461.42\n",
       "15  2012-04-01   9056.03\n",
       "16  2012-05-01  12042.67\n",
       "17  2012-06-01   5088.96\n",
       "18  2012-07-01   7089.84\n",
       "19  2012-08-01  12548.35\n",
       "20  2012-09-01  13898.91\n",
       "21  2012-10-01  14016.66\n",
       "22  2012-11-01  14548.89\n",
       "23  2012-12-01  28182.87\n",
       "24  2013-01-01   3657.83\n",
       "25  2013-02-01   3100.17\n",
       "26  2013-03-01  17559.00\n",
       "27  2013-04-01  10370.14\n",
       "28  2013-05-01  10806.15\n",
       "29  2013-06-01  18598.09\n",
       "30  2013-07-01  14417.78\n",
       "31  2013-08-01  12680.97\n",
       "32  2013-09-01  23620.90\n",
       "33  2013-10-01  13135.38\n",
       "34  2013-11-01  26412.33\n",
       "35  2013-12-01  32617.35\n",
       "36  2014-01-01  12586.01\n",
       "37  2014-02-01   9814.93\n",
       "38  2014-03-01  28994.40\n",
       "39  2014-04-01  13196.93\n",
       "40  2014-05-01  15901.63\n",
       "41  2014-06-01  15203.08\n",
       "42  2014-07-01  21390.78\n",
       "43  2014-08-01  24196.76\n",
       "44  2014-09-01  29198.10\n",
       "45  2014-10-01  21556.00\n",
       "46  2014-11-01  28915.96\n",
       "47  2014-12-01  29677.95"
      ]
     },
     "execution_count": 40,
     "metadata": {},
     "output_type": "execute_result"
    }
   ],
   "source": [
    "monthly_sales"
   ]
  },
  {
   "cell_type": "code",
   "execution_count": 42,
   "id": "3606473b-6bdf-470b-ba4a-cc40d44effed",
   "metadata": {},
   "outputs": [],
   "source": [
    "# 这行可以删掉，不需要 .dt.to_timestamp()\n",
    "# monthly_sales['Order Month'] = monthly_sales['Order Month'].dt.to_timestamp()\n"
   ]
  },
  {
   "cell_type": "code",
   "execution_count": 43,
   "id": "2c1ccc13-363a-48b8-b2be-768c096eb1e1",
   "metadata": {},
   "outputs": [
    {
     "data": {
      "image/png": "[encoded data removed]",
      "text/plain": [
       "<Figure size 1000x500 with 1 Axes>"
      ]
     },
     "metadata": {},
     "output_type": "display_data"
    }
   ],
   "source": [
    "plt.figure(figsize=(10, 5))\n",
    "plt.plot(monthly_sales['Order Month'], monthly_sales['Sales'], linestyle='-', marker='o', color='blue')\n",
    "plt.title('Monthly Sales Trend')\n",
    "plt.xlabel('Month')\n",
    "plt.ylabel('Sales')\n",
    "plt.grid(True)\n",
    "plt.xticks(rotation=45)\n",
    "plt.tight_layout()\n",
    "plt.show()"
   ]
  },
  {
   "cell_type": "code",
   "execution_count": 44,
   "id": "05803169-d28f-4eaa-b8a3-04e911c4f10e",
   "metadata": {},
   "outputs": [
    {
     "data": {
      "text/html": [
       "<div>\n",
       "<style scoped>\n",
       "    .dataframe tbody tr th:only-of-type {\n",
       "        vertical-align: middle;\n",
       "    }\n",
       "\n",
       "    .dataframe tbody tr th {\n",
       "        vertical-align: top;\n",
       "    }\n",
       "\n",
       "    .dataframe thead th {\n",
       "        text-align: right;\n",
       "    }\n",
       "</style>\n",
       "<table border=\"1\" class=\"dataframe\">\n",
       "  <thead>\n",
       "    <tr style=\"text-align: right;\">\n",
       "      <th></th>\n",
       "      <th>Order Month</th>\n",
       "      <th>Predicted Sales</th>\n",
       "    </tr>\n",
       "  </thead>\n",
       "  <tbody>\n",
       "    <tr>\n",
       "      <th>0</th>\n",
       "      <td>2015-01-01</td>\n",
       "      <td>23242.528963</td>\n",
       "    </tr>\n",
       "    <tr>\n",
       "      <th>1</th>\n",
       "      <td>2015-02-01</td>\n",
       "      <td>23574.317619</td>\n",
       "    </tr>\n",
       "    <tr>\n",
       "      <th>2</th>\n",
       "      <td>2015-03-01</td>\n",
       "      <td>23906.106276</td>\n",
       "    </tr>\n",
       "    <tr>\n",
       "      <th>3</th>\n",
       "      <td>2015-04-01</td>\n",
       "      <td>24237.894933</td>\n",
       "    </tr>\n",
       "    <tr>\n",
       "      <th>4</th>\n",
       "      <td>2015-05-01</td>\n",
       "      <td>24569.683589</td>\n",
       "    </tr>\n",
       "    <tr>\n",
       "      <th>5</th>\n",
       "      <td>2015-06-01</td>\n",
       "      <td>24901.472246</td>\n",
       "    </tr>\n",
       "  </tbody>\n",
       "</table>\n",
       "</div>"
      ],
      "text/plain": [
       "  Order Month  Predicted Sales\n",
       "0  2015-01-01     23242.528963\n",
       "1  2015-02-01     23574.317619\n",
       "2  2015-03-01     23906.106276\n",
       "3  2015-04-01     24237.894933\n",
       "4  2015-05-01     24569.683589\n",
       "5  2015-06-01     24901.472246"
      ]
     },
     "execution_count": 44,
     "metadata": {},
     "output_type": "execute_result"
    }
   ],
   "source": [
    "from sklearn.linear_model import LinearRegression\n",
    "\n",
    "# 构建时间特征\n",
    "monthly_sales['Month_Num'] = np.arange(len(monthly_sales))\n",
    "\n",
    "# 特征和目标\n",
    "X = monthly_sales[['Month_Num']]\n",
    "y = monthly_sales['Sales']\n",
    "\n",
    "# 拟合线性回归模型\n",
    "model = LinearRegression()\n",
    "model.fit(X, y)\n",
    "\n",
    "# 预测未来 6 个月\n",
    "future_months = pd.DataFrame({'Month_Num': np.arange(len(monthly_sales), len(monthly_sales) + 6)})\n",
    "future_sales = model.predict(future_months)\n",
    "\n",
    "# 创建未来 6 个月的日期\n",
    "future_dates = pd.date_range(\n",
    "    start=monthly_sales['Order Month'].max() + pd.offsets.MonthBegin(), \n",
    "    periods=6, \n",
    "    freq='MS'\n",
    ")\n",
    "\n",
    "# 构建预测 DataFrame\n",
    "predicted_df = pd.DataFrame({\n",
    "    'Order Month': future_dates,\n",
    "    'Predicted Sales': future_sales\n",
    "})\n",
    "\n",
    "predicted_df\n",
    "\n"
   ]
  },
  {
   "cell_type": "code",
   "execution_count": 45,
   "id": "b9586a40-ec39-4ae5-983c-16331a18b248",
   "metadata": {},
   "outputs": [
    {
     "data": {
      "image/png": "[encoded data removed]",
      "text/plain": [
       "<Figure size 1000x500 with 1 Axes>"
      ]
     },
     "metadata": {},
     "output_type": "display_data"
    }
   ],
   "source": [
    "plot_df = pd.concat([\n",
    "    monthly_sales[['Order Month', 'Sales']],\n",
    "    predicted_df.rename(columns={'Predicted Sales': 'Sales'})\n",
    "], ignore_index=True)\n",
    "\n",
    "plt.figure(figsize=(10, 5))\n",
    "plt.plot(plot_df['Order Month'], plot_df['Sales'], marker='o', label='Actual + Predicted')\n",
    "plt.axvline(x=monthly_sales['Order Month'].max(), color='red', linestyle='--', label='Forecast Start')\n",
    "plt.title('Monthly Sales with 3-Month Forecast')\n",
    "plt.xlabel('Month')\n",
    "plt.ylabel('Sales')\n",
    "plt.legend()\n",
    "plt.xticks(rotation=45)\n",
    "plt.grid(True)\n",
    "plt.tight_layout()\n",
    "plt.show()\n"
   ]
  },
  {
   "cell_type": "code",
   "execution_count": 46,
   "id": "e94a56ea-78be-4d6d-baf5-9ea0a22c3758",
   "metadata": {},
   "outputs": [],
   "source": [
    "predicted_df.to_csv('predicted_sales_6_months.csv', index=False)\n"
   ]
  },
  {
   "cell_type": "markdown",
   "id": "f0d9f367-e05f-49b1-b9d5-a9a9b44b8fdf",
   "metadata": {},
   "source": [
    "## Which category are the best selling？ Which is the highest profit category?\n"
   ]
  },
  {
   "cell_type": "code",
   "execution_count": 47,
   "id": "73065eba-f955-4c59-9998-0002a340c523",
   "metadata": {},
   "outputs": [
    {
     "data": {
      "text/plain": [
       "Category\n",
       "Chairs         101781.36\n",
       "Phones          98684.39\n",
       "Tables          84754.60\n",
       "Storage         70532.84\n",
       "Accessories     61114.10\n",
       "Name: Sales, dtype: float64"
      ]
     },
     "execution_count": 47,
     "metadata": {},
     "output_type": "execute_result"
    }
   ],
   "source": [
    "# 按 Category 分组，计算销售总额\n",
    "sales_by_category = df.groupby('Category')['Sales'].sum().sort_values(ascending=False)\n",
    "sales_by_category.head()\n"
   ]
  },
  {
   "cell_type": "code",
   "execution_count": 48,
   "id": "d69b57fb-f23f-4e14-a232-4c733c96a39d",
   "metadata": {},
   "outputs": [
    {
     "data": {
      "text/plain": [
       "Category\n",
       "Copiers        19327.25\n",
       "Accessories    16484.62\n",
       "Binders        16096.78\n",
       "Paper          12119.10\n",
       "Phones          9111.06\n",
       "Name: Profit, dtype: float64"
      ]
     },
     "execution_count": 48,
     "metadata": {},
     "output_type": "execute_result"
    }
   ],
   "source": [
    "profit_by_category = df.groupby('Category')['Profit'].sum().sort_values(ascending=False)\n",
    "profit_by_category.head()"
   ]
  },
  {
   "cell_type": "code",
   "execution_count": 49,
   "id": "d30891c1-b8ec-4ee0-88c2-90a6d0036064",
   "metadata": {},
   "outputs": [
    {
     "data": {
      "text/plain": [
       "Category\n",
       "Accessories    26.973513\n",
       "Appliances     27.322406\n",
       "Art            25.772194\n",
       "Binders        28.764226\n",
       "Bookcases      -4.573080\n",
       "Chairs          3.957129\n",
       "Copiers        38.849345\n",
       "Envelopes      46.349287\n",
       "Fasteners      29.808276\n",
       "Furnishings    25.409266\n",
       "Labels         45.347450\n",
       "Machines       -1.458270\n",
       "Paper          45.451630\n",
       "Phones          9.232524\n",
       "Storage        12.257397\n",
       "Supplies        3.453996\n",
       "Tables          1.749215\n",
       "Name: Profit Margin (%), dtype: float64"
      ]
     },
     "execution_count": 49,
     "metadata": {},
     "output_type": "execute_result"
    }
   ],
   "source": [
    "# sales and profit margin \n",
    "category_summary = df.groupby('Category')[['Sales', 'Profit']].sum()\n",
    "category_summary['Profit Margin (%)'] = (category_summary['Profit'] / category_summary['Sales']) * 100\n",
    "category_summary['Profit Margin (%)']"
   ]
  },
  {
   "cell_type": "code",
   "execution_count": 50,
   "id": "c6023994-9aa5-4823-8060-77971ea804e4",
   "metadata": {},
   "outputs": [
    {
     "data": {
      "text/html": [
       "<div>\n",
       "<style scoped>\n",
       "    .dataframe tbody tr th:only-of-type {\n",
       "        vertical-align: middle;\n",
       "    }\n",
       "\n",
       "    .dataframe tbody tr th {\n",
       "        vertical-align: top;\n",
       "    }\n",
       "\n",
       "    .dataframe thead th {\n",
       "        text-align: right;\n",
       "    }\n",
       "</style>\n",
       "<table border=\"1\" class=\"dataframe\">\n",
       "  <thead>\n",
       "    <tr style=\"text-align: right;\">\n",
       "      <th></th>\n",
       "      <th>Sales</th>\n",
       "      <th>Profit</th>\n",
       "      <th>Profit Margin (%)</th>\n",
       "    </tr>\n",
       "    <tr>\n",
       "      <th>Category</th>\n",
       "      <th></th>\n",
       "      <th></th>\n",
       "      <th></th>\n",
       "    </tr>\n",
       "  </thead>\n",
       "  <tbody>\n",
       "    <tr>\n",
       "      <th>Copiers</th>\n",
       "      <td>49749.23</td>\n",
       "      <td>19327.25</td>\n",
       "      <td>38.849345</td>\n",
       "    </tr>\n",
       "    <tr>\n",
       "      <th>Accessories</th>\n",
       "      <td>61114.10</td>\n",
       "      <td>16484.62</td>\n",
       "      <td>26.973513</td>\n",
       "    </tr>\n",
       "    <tr>\n",
       "      <th>Binders</th>\n",
       "      <td>55961.11</td>\n",
       "      <td>16096.78</td>\n",
       "      <td>28.764226</td>\n",
       "    </tr>\n",
       "    <tr>\n",
       "      <th>Paper</th>\n",
       "      <td>26663.73</td>\n",
       "      <td>12119.10</td>\n",
       "      <td>45.451630</td>\n",
       "    </tr>\n",
       "    <tr>\n",
       "      <th>Phones</th>\n",
       "      <td>98684.39</td>\n",
       "      <td>9111.06</td>\n",
       "      <td>9.232524</td>\n",
       "    </tr>\n",
       "    <tr>\n",
       "      <th>Storage</th>\n",
       "      <td>70532.84</td>\n",
       "      <td>8645.49</td>\n",
       "      <td>12.257397</td>\n",
       "    </tr>\n",
       "    <tr>\n",
       "      <th>Appliances</th>\n",
       "      <td>30236.32</td>\n",
       "      <td>8261.29</td>\n",
       "      <td>27.322406</td>\n",
       "    </tr>\n",
       "    <tr>\n",
       "      <th>Furnishings</th>\n",
       "      <td>30072.73</td>\n",
       "      <td>7641.26</td>\n",
       "      <td>25.409266</td>\n",
       "    </tr>\n",
       "    <tr>\n",
       "      <th>Chairs</th>\n",
       "      <td>101781.36</td>\n",
       "      <td>4027.62</td>\n",
       "      <td>3.957129</td>\n",
       "    </tr>\n",
       "    <tr>\n",
       "      <th>Art</th>\n",
       "      <td>9212.06</td>\n",
       "      <td>2374.15</td>\n",
       "      <td>25.772194</td>\n",
       "    </tr>\n",
       "    <tr>\n",
       "      <th>Labels</th>\n",
       "      <td>5078.72</td>\n",
       "      <td>2303.07</td>\n",
       "      <td>45.347450</td>\n",
       "    </tr>\n",
       "    <tr>\n",
       "      <th>Envelopes</th>\n",
       "      <td>4118.10</td>\n",
       "      <td>1908.71</td>\n",
       "      <td>46.349287</td>\n",
       "    </tr>\n",
       "    <tr>\n",
       "      <th>Tables</th>\n",
       "      <td>84754.60</td>\n",
       "      <td>1482.54</td>\n",
       "      <td>1.749215</td>\n",
       "    </tr>\n",
       "    <tr>\n",
       "      <th>Supplies</th>\n",
       "      <td>18127.12</td>\n",
       "      <td>626.11</td>\n",
       "      <td>3.453996</td>\n",
       "    </tr>\n",
       "    <tr>\n",
       "      <th>Fasteners</th>\n",
       "      <td>923.20</td>\n",
       "      <td>275.19</td>\n",
       "      <td>29.808276</td>\n",
       "    </tr>\n",
       "    <tr>\n",
       "      <th>Machines</th>\n",
       "      <td>42444.14</td>\n",
       "      <td>-618.95</td>\n",
       "      <td>-1.458270</td>\n",
       "    </tr>\n",
       "    <tr>\n",
       "      <th>Bookcases</th>\n",
       "      <td>36004.18</td>\n",
       "      <td>-1646.50</td>\n",
       "      <td>-4.573080</td>\n",
       "    </tr>\n",
       "  </tbody>\n",
       "</table>\n",
       "</div>"
      ],
      "text/plain": [
       "                 Sales    Profit  Profit Margin (%)\n",
       "Category                                           \n",
       "Copiers       49749.23  19327.25          38.849345\n",
       "Accessories   61114.10  16484.62          26.973513\n",
       "Binders       55961.11  16096.78          28.764226\n",
       "Paper         26663.73  12119.10          45.451630\n",
       "Phones        98684.39   9111.06           9.232524\n",
       "Storage       70532.84   8645.49          12.257397\n",
       "Appliances    30236.32   8261.29          27.322406\n",
       "Furnishings   30072.73   7641.26          25.409266\n",
       "Chairs       101781.36   4027.62           3.957129\n",
       "Art            9212.06   2374.15          25.772194\n",
       "Labels         5078.72   2303.07          45.347450\n",
       "Envelopes      4118.10   1908.71          46.349287\n",
       "Tables        84754.60   1482.54           1.749215\n",
       "Supplies      18127.12    626.11           3.453996\n",
       "Fasteners       923.20    275.19          29.808276\n",
       "Machines      42444.14   -618.95          -1.458270\n",
       "Bookcases     36004.18  -1646.50          -4.573080"
      ]
     },
     "execution_count": 50,
     "metadata": {},
     "output_type": "execute_result"
    }
   ],
   "source": [
    "category_summary_sorted = category_summary.sort_values(by='Profit', ascending=False)\n",
    "category_summary_sorted "
   ]
  },
  {
   "cell_type": "code",
   "execution_count": 51,
   "id": "9e1a0dbb-c75f-4ce9-9330-66bac70a836d",
   "metadata": {},
   "outputs": [
    {
     "data": {
      "text/plain": [
       "<Axes: title={'center': 'Sales vs Profit by Category'}, xlabel='Category'>"
      ]
     },
     "execution_count": 51,
     "metadata": {},
     "output_type": "execute_result"
    },
    {
     "data": {
      "image/png": "[encoded data removed]",
      "text/plain": [
       "<Figure size 1000x600 with 1 Axes>"
      ]
     },
     "metadata": {},
     "output_type": "display_data"
    }
   ],
   "source": [
    "category_summary_sorted[['Sales', 'Profit']].plot(\n",
    "    kind='bar', \n",
    "    figsize=(10, 6), \n",
    "    title='Sales vs Profit by Category'\n",
    ")\n"
   ]
  },
  {
   "cell_type": "markdown",
   "id": "2633fbc2-d840-47f1-88a0-fb69b0e9cf6a",
   "metadata": {},
   "source": [
    "## \"Though Chairs lead in sales, their low margin (3.96%) significantly reduces their contribution to profit. In contrast, Copiers and Binders have high profit margins above 28%, making them valuable to prioritize. Envelopes and Paper also offer profit margins exceeding 45%, despite smaller volume, representing highly profitable niche products. Meanwhile, Machines and Bookcases operate at a loss and warrant immediate business review.\""
   ]
  },
  {
   "cell_type": "markdown",
   "id": "657e2025-10c2-4751-9ae1-1212258cc0d5",
   "metadata": {},
   "source": [
    "## who are the top shoppers ? How much sales are? How much profits are?"
   ]
  },
  {
   "cell_type": "code",
   "execution_count": 52,
   "id": "9ecfb8aa-ea6a-4c9b-b035-b3f143066586",
   "metadata": {},
   "outputs": [
    {
     "data": {
      "text/plain": [
       "EmailID\n",
       "RaymondBuch@gmail.com      14345.28\n",
       "KenLonsdale@gmail.com       8472.39\n",
       "EdwardHooks@gmail.com       7447.77\n",
       "JaneWaco@gmail.com          7391.53\n",
       "KarenFerguson@gmail.com     7182.76\n",
       "NickCrebassa@gmail.com      6734.23\n",
       "ClayLudtke@gmail.com        6069.65\n",
       "YanaSorensen@gmail.com      5754.17\n",
       "NoraPreis@gmail.com         5564.60\n",
       "WilliamBrown@gmail.com      5523.06\n",
       "Name: Sales, dtype: float64"
      ]
     },
     "execution_count": 52,
     "metadata": {},
     "output_type": "execute_result"
    }
   ],
   "source": [
    "top_shoppers = df.groupby('EmailID')['Sales'].sum().sort_values(ascending=False)\n",
    "top_shoppers.head(10)\n"
   ]
  },
  {
   "cell_type": "code",
   "execution_count": 53,
   "id": "76e338ba-372d-4429-bed4-7d163e1bc870",
   "metadata": {},
   "outputs": [
    {
     "data": {
      "text/html": [
       "<div>\n",
       "<style scoped>\n",
       "    .dataframe tbody tr th:only-of-type {\n",
       "        vertical-align: middle;\n",
       "    }\n",
       "\n",
       "    .dataframe tbody tr th {\n",
       "        vertical-align: top;\n",
       "    }\n",
       "\n",
       "    .dataframe thead th {\n",
       "        text-align: right;\n",
       "    }\n",
       "</style>\n",
       "<table border=\"1\" class=\"dataframe\">\n",
       "  <thead>\n",
       "    <tr style=\"text-align: right;\">\n",
       "      <th></th>\n",
       "      <th>Sales</th>\n",
       "      <th>Profit</th>\n",
       "    </tr>\n",
       "    <tr>\n",
       "      <th>EmailID</th>\n",
       "      <th></th>\n",
       "      <th></th>\n",
       "    </tr>\n",
       "  </thead>\n",
       "  <tbody>\n",
       "    <tr>\n",
       "      <th>RaymondBuch@gmail.com</th>\n",
       "      <td>14345.28</td>\n",
       "      <td>6807.08</td>\n",
       "    </tr>\n",
       "    <tr>\n",
       "      <th>KenLonsdale@gmail.com</th>\n",
       "      <td>8472.39</td>\n",
       "      <td>426.61</td>\n",
       "    </tr>\n",
       "    <tr>\n",
       "      <th>EdwardHooks@gmail.com</th>\n",
       "      <td>7447.77</td>\n",
       "      <td>589.74</td>\n",
       "    </tr>\n",
       "    <tr>\n",
       "      <th>JaneWaco@gmail.com</th>\n",
       "      <td>7391.53</td>\n",
       "      <td>2073.29</td>\n",
       "    </tr>\n",
       "    <tr>\n",
       "      <th>KarenFerguson@gmail.com</th>\n",
       "      <td>7182.76</td>\n",
       "      <td>878.42</td>\n",
       "    </tr>\n",
       "    <tr>\n",
       "      <th>NickCrebassa@gmail.com</th>\n",
       "      <td>6734.23</td>\n",
       "      <td>706.58</td>\n",
       "    </tr>\n",
       "    <tr>\n",
       "      <th>ClayLudtke@gmail.com</th>\n",
       "      <td>6069.65</td>\n",
       "      <td>890.33</td>\n",
       "    </tr>\n",
       "    <tr>\n",
       "      <th>YanaSorensen@gmail.com</th>\n",
       "      <td>5754.17</td>\n",
       "      <td>1551.61</td>\n",
       "    </tr>\n",
       "    <tr>\n",
       "      <th>NoraPreis@gmail.com</th>\n",
       "      <td>5564.60</td>\n",
       "      <td>367.72</td>\n",
       "    </tr>\n",
       "    <tr>\n",
       "      <th>WilliamBrown@gmail.com</th>\n",
       "      <td>5523.06</td>\n",
       "      <td>825.29</td>\n",
       "    </tr>\n",
       "  </tbody>\n",
       "</table>\n",
       "</div>"
      ],
      "text/plain": [
       "                            Sales   Profit\n",
       "EmailID                                   \n",
       "RaymondBuch@gmail.com    14345.28  6807.08\n",
       "KenLonsdale@gmail.com     8472.39   426.61\n",
       "EdwardHooks@gmail.com     7447.77   589.74\n",
       "JaneWaco@gmail.com        7391.53  2073.29\n",
       "KarenFerguson@gmail.com   7182.76   878.42\n",
       "NickCrebassa@gmail.com    6734.23   706.58\n",
       "ClayLudtke@gmail.com      6069.65   890.33\n",
       "YanaSorensen@gmail.com    5754.17  1551.61\n",
       "NoraPreis@gmail.com       5564.60   367.72\n",
       "WilliamBrown@gmail.com    5523.06   825.29"
      ]
     },
     "execution_count": 53,
     "metadata": {},
     "output_type": "execute_result"
    }
   ],
   "source": [
    "top_customer_summary = df.groupby('EmailID')[['Sales', 'Profit']].sum()\n",
    "top_customer_summary = top_customer_summary.sort_values(by='Sales', ascending=False)\n",
    "top_customer_summary.head(10)\n"
   ]
  },
  {
   "cell_type": "code",
   "execution_count": 54,
   "id": "1b886e85-7854-4832-8d13-6b52e7b77611",
   "metadata": {},
   "outputs": [
    {
     "data": {
      "text/plain": [
       "EmailID\n",
       "RaymondBuch@gmail.com      47.451705\n",
       "KenLonsdale@gmail.com       5.035297\n",
       "EdwardHooks@gmail.com       7.918343\n",
       "JaneWaco@gmail.com         28.049538\n",
       "KarenFerguson@gmail.com    12.229561\n",
       "                             ...    \n",
       "StuartCalhoun@gmail.com    41.079812\n",
       "AdrianShami@gmail.com      35.885167\n",
       "JackLebron@gmail.com       34.924623\n",
       "SaraLuxemburg@gmail.com    25.225225\n",
       "ThaisSissman@gmail.com    -66.502463\n",
       "Name: Profit Margin (%), Length: 686, dtype: float64"
      ]
     },
     "execution_count": 54,
     "metadata": {},
     "output_type": "execute_result"
    }
   ],
   "source": [
    "top_customer_summary['Profit Margin (%)'] = (top_customer_summary['Profit'] / top_customer_summary['Sales']) * 100\n",
    "top_customer_summary['Profit Margin (%)']\n"
   ]
  },
  {
   "cell_type": "code",
   "execution_count": null,
   "id": "6ab5d93d-9f21-44d9-b07c-521703311082",
   "metadata": {},
   "outputs": [],
   "source": []
  },
  {
   "cell_type": "markdown",
   "id": "d0264706-ec19-4ec8-a3a6-0e4cea5bee53",
   "metadata": {},
   "source": [
    "## Which state is the highest profit one?\n"
   ]
  },
  {
   "cell_type": "code",
   "execution_count": 55,
   "id": "c337089c-6551-4ffb-90b8-cd76785ae25c",
   "metadata": {},
   "outputs": [
    {
     "data": {
      "text/plain": [
       "State\n",
       "California    76381.60\n",
       "Washington    33402.70\n",
       "Nevada         3316.76\n",
       "Utah           2546.56\n",
       "Montana        1833.32\n",
       "New Mexico     1157.13\n",
       "Idaho           826.73\n",
       "Wyoming         100.20\n",
       "Oregon        -1190.48\n",
       "Arizona       -3427.87\n",
       "Name: Profit, dtype: float64"
      ]
     },
     "execution_count": 55,
     "metadata": {},
     "output_type": "execute_result"
    }
   ],
   "source": [
    "# 按州分组，求总利润\n",
    "profit_by_state = df.groupby('State')['Profit'].sum().sort_values(ascending=False)\n",
    "\n",
    "profit_by_state.head(10)"
   ]
  },
  {
   "cell_type": "markdown",
   "id": "bcc88136-94f4-4f30-8c55-f4cedf5a7526",
   "metadata": {},
   "source": [
    "## “California is by far the most profitable state, contributing over $76K in profit, more than twice the next best, Washington. These two states should be prioritized for growth and retention strategies. However, Arizona and Oregon are currently operating at a loss, requiring a review of cost structure, pricing, or customer targeting.”"
   ]
  },
  {
   "cell_type": "markdown",
   "id": "31d6a66a-227b-42ee-aac6-9a2b87da594d",
   "metadata": {},
   "source": [
    "## Which cities are high sales but low profits "
   ]
  },
  {
   "cell_type": "code",
   "execution_count": 56,
   "id": "68b181fc-58ec-4cb0-b977-4da2db58b865",
   "metadata": {},
   "outputs": [],
   "source": [
    "city_summary = df.groupby('City')[['Sales', 'Profit']].sum()\n",
    "city_summary['Profit Margin (%)'] = (city_summary['Profit'] / city_summary['Sales']) * 100\n"
   ]
  },
  {
   "cell_type": "code",
   "execution_count": 57,
   "id": "ec078536-9407-4f17-9c64-418c83830a76",
   "metadata": {},
   "outputs": [
    {
     "data": {
      "text/html": [
       "<div>\n",
       "<style scoped>\n",
       "    .dataframe tbody tr th:only-of-type {\n",
       "        vertical-align: middle;\n",
       "    }\n",
       "\n",
       "    .dataframe tbody tr th {\n",
       "        vertical-align: top;\n",
       "    }\n",
       "\n",
       "    .dataframe thead th {\n",
       "        text-align: right;\n",
       "    }\n",
       "</style>\n",
       "<table border=\"1\" class=\"dataframe\">\n",
       "  <thead>\n",
       "    <tr style=\"text-align: right;\">\n",
       "      <th></th>\n",
       "      <th>Sales</th>\n",
       "      <th>Profit</th>\n",
       "      <th>Profit Margin (%)</th>\n",
       "    </tr>\n",
       "    <tr>\n",
       "      <th>City</th>\n",
       "      <th></th>\n",
       "      <th></th>\n",
       "      <th></th>\n",
       "    </tr>\n",
       "  </thead>\n",
       "  <tbody>\n",
       "  </tbody>\n",
       "</table>\n",
       "</div>"
      ],
      "text/plain": [
       "Empty DataFrame\n",
       "Columns: [Sales, Profit, Profit Margin (%)]\n",
       "Index: []"
      ]
     },
     "metadata": {},
     "output_type": "display_data"
    }
   ],
   "source": [
    "high_sales_low_profit = city_summary[\n",
    "    (city_summary['Sales'] > 20000) & (city_summary['Profit'] < 1000)\n",
    "].sort_values(by='Sales', ascending=False)\n",
    "\n",
    "display(high_sales_low_profit)\n"
   ]
  },
  {
   "cell_type": "code",
   "execution_count": 58,
   "id": "f9b72980-e001-42e6-ac42-a2f01aa4e429",
   "metadata": {},
   "outputs": [
    {
     "data": {
      "text/html": [
       "<div>\n",
       "<style scoped>\n",
       "    .dataframe tbody tr th:only-of-type {\n",
       "        vertical-align: middle;\n",
       "    }\n",
       "\n",
       "    .dataframe tbody tr th {\n",
       "        vertical-align: top;\n",
       "    }\n",
       "\n",
       "    .dataframe thead th {\n",
       "        text-align: right;\n",
       "    }\n",
       "</style>\n",
       "<table border=\"1\" class=\"dataframe\">\n",
       "  <thead>\n",
       "    <tr style=\"text-align: right;\">\n",
       "      <th></th>\n",
       "      <th>Sales</th>\n",
       "      <th>Profit</th>\n",
       "      <th>Profit Margin (%)</th>\n",
       "    </tr>\n",
       "    <tr>\n",
       "      <th>City</th>\n",
       "      <th></th>\n",
       "      <th></th>\n",
       "      <th></th>\n",
       "    </tr>\n",
       "  </thead>\n",
       "  <tbody>\n",
       "  </tbody>\n",
       "</table>\n",
       "</div>"
      ],
      "text/plain": [
       "Empty DataFrame\n",
       "Columns: [Sales, Profit, Profit Margin (%)]\n",
       "Index: []"
      ]
     },
     "execution_count": 58,
     "metadata": {},
     "output_type": "execute_result"
    }
   ],
   "source": [
    "# 或者筛选利润率特别低的\n",
    "risky_cities = city_summary[\n",
    "    (city_summary['Sales'] > 20000) & (city_summary['Profit Margin (%)'] < 5)\n",
    "].sort_values(by='Profit Margin (%)')\n",
    "risky_cities"
   ]
  },
  {
   "cell_type": "code",
   "execution_count": 59,
   "id": "afdb464b-f13f-4719-b0e0-b8dc3aedb71f",
   "metadata": {},
   "outputs": [
    {
     "data": {
      "image/png": "[encoded data removed]",
      "text/plain": [
       "<Figure size 1000x600 with 1 Axes>"
      ]
     },
     "metadata": {},
     "output_type": "display_data"
    }
   ],
   "source": [
    "import matplotlib.pyplot as plt\n",
    "\n",
    "plt.figure(figsize=(10,6))\n",
    "plt.scatter(city_summary['Sales'], city_summary['Profit'], alpha=0.5, color='blue')\n",
    "plt.axhline(0, color='red', linestyle='--')\n",
    "plt.xlabel('Sales')\n",
    "plt.ylabel('Profit')\n",
    "plt.title('City-Level Sales vs Profit')\n",
    "plt.grid(True)\n",
    "plt.show()\n"
   ]
  },
  {
   "cell_type": "code",
   "execution_count": null,
   "id": "dae3d30e-f514-4f20-9669-9e3142dadef3",
   "metadata": {},
   "outputs": [],
   "source": []
  },
  {
   "cell_type": "markdown",
   "id": "6dced27b-94e9-4026-bacb-12f89647cf8c",
   "metadata": {},
   "source": [
    "## average sales per order "
   ]
  },
  {
   "cell_type": "code",
   "execution_count": 60,
   "id": "156785bb-b4fe-41d1-b573-8c173fd55943",
   "metadata": {},
   "outputs": [
    {
     "data": {
      "text/plain": [
       "Order ID\n",
       "CA-2011-100090     699.19\n",
       "CA-2011-100363      21.38\n",
       "CA-2011-100860      18.75\n",
       "CA-2011-100867     321.55\n",
       "CA-2011-100881     302.38\n",
       "                   ...   \n",
       "US-2014-163657     255.25\n",
       "US-2014-163790    1158.88\n",
       "US-2014-166688    1196.32\n",
       "US-2014-167318    2012.30\n",
       "US-2014-168802      18.37\n",
       "Name: Sales, Length: 1611, dtype: float64"
      ]
     },
     "execution_count": 60,
     "metadata": {},
     "output_type": "execute_result"
    }
   ],
   "source": [
    "order_sales = df.groupby('Order ID')['Sales'].sum()\n",
    "order_sales"
   ]
  },
  {
   "cell_type": "code",
   "execution_count": 61,
   "id": "5896ae35-c5dd-46f2-b49a-1bead978108c",
   "metadata": {},
   "outputs": [
    {
     "data": {
      "text/plain": [
       "np.float64(450.31528864059584)"
      ]
     },
     "execution_count": 61,
     "metadata": {},
     "output_type": "execute_result"
    }
   ],
   "source": [
    "average_sales_per_order = order_sales.mean()\n",
    "average_sales_per_order"
   ]
  },
  {
   "cell_type": "code",
   "execution_count": 62,
   "id": "76c4d490-3c1e-45d4-a9b5-af5453da2a3e",
   "metadata": {},
   "outputs": [
    {
     "data": {
      "image/png": "[encoded data removed]",
      "text/plain": [
       "<Figure size 800x500 with 1 Axes>"
      ]
     },
     "metadata": {},
     "output_type": "display_data"
    }
   ],
   "source": [
    "import matplotlib.pyplot as plt\n",
    "\n",
    "plt.figure(figsize=(8,5))\n",
    "order_sales.hist(bins=30, color='skyblue', edgecolor='black')\n",
    "plt.title('Distribution of Sales per Order')\n",
    "plt.xlabel('Sales per Order')\n",
    "plt.ylabel('Number of Orders')\n",
    "plt.grid(True)\n",
    "plt.show()\n"
   ]
  },
  {
   "cell_type": "markdown",
   "id": "5c4edbe0-3d1a-490d-ae6f-c5d9eb37df5b",
   "metadata": {},
   "source": [
    "## average profit per order \n"
   ]
  },
  {
   "cell_type": "code",
   "execution_count": 63,
   "id": "351ba9ad-4e54-4a52-9c12-b70524f4fc2d",
   "metadata": {},
   "outputs": [
    {
     "data": {
      "text/plain": [
       "Order ID\n",
       "CA-2011-100090    -19.09\n",
       "CA-2011-100363      7.72\n",
       "CA-2011-100860      9.00\n",
       "CA-2011-100867     20.10\n",
       "CA-2011-100881     22.68\n",
       "                   ...  \n",
       "US-2014-163657      3.59\n",
       "US-2014-163790    282.44\n",
       "US-2014-166688     92.02\n",
       "US-2014-167318    705.27\n",
       "US-2014-168802      5.97\n",
       "Name: Profit, Length: 1611, dtype: float64"
      ]
     },
     "execution_count": 63,
     "metadata": {},
     "output_type": "execute_result"
    }
   ],
   "source": [
    "order_profit = df.groupby('Order ID')['Profit'].sum()\n",
    "order_profit"
   ]
  },
  {
   "cell_type": "code",
   "execution_count": 64,
   "id": "98d1de24-b08e-4e2d-a307-630d36cb63c1",
   "metadata": {},
   "outputs": [
    {
     "data": {
      "text/plain": [
       "np.float64(67.2990626939789)"
      ]
     },
     "execution_count": 64,
     "metadata": {},
     "output_type": "execute_result"
    }
   ],
   "source": [
    "average_profit_per_order = order_profit.mean()\n",
    "average_profit_per_order"
   ]
  },
  {
   "cell_type": "code",
   "execution_count": 65,
   "id": "3357e82d-15a7-4318-b4e8-436f87f89b04",
   "metadata": {},
   "outputs": [
    {
     "data": {
      "image/png": "[encoded data removed]",
      "text/plain": [
       "<Figure size 800x500 with 1 Axes>"
      ]
     },
     "metadata": {},
     "output_type": "display_data"
    }
   ],
   "source": [
    "import matplotlib.pyplot as plt\n",
    "\n",
    "plt.figure(figsize=(8,5))\n",
    "order_profit.hist(bins=30, color='lightcoral', edgecolor='black')\n",
    "plt.title('Distribution of Profit per Order')\n",
    "plt.xlabel('Profit per Order')\n",
    "plt.ylabel('Number of Orders')\n",
    "plt.grid(True)\n",
    "plt.show()\n"
   ]
  },
  {
   "cell_type": "code",
   "execution_count": 66,
   "id": "bf0d7221-ee6d-47c9-9198-0206c83ce7fd",
   "metadata": {},
   "outputs": [],
   "source": [
    "## from time from order to ship "
   ]
  },
  {
   "cell_type": "code",
   "execution_count": 67,
   "id": "c798cf92-84a3-4057-88e2-77d3e0f8f717",
   "metadata": {},
   "outputs": [],
   "source": [
    "df['Order Date'] = pd.to_datetime(df['Order Date'])\n",
    "df['Ship Date'] = pd.to_datetime(df['Ship Date'])"
   ]
  },
  {
   "cell_type": "code",
   "execution_count": 68,
   "id": "6f5545dc-620c-4c80-9cf5-569d0a533ee4",
   "metadata": {},
   "outputs": [
    {
     "data": {
      "text/plain": [
       "0       4\n",
       "1       5\n",
       "2       5\n",
       "3       5\n",
       "4       5\n",
       "       ..\n",
       "3198    4\n",
       "3199    5\n",
       "3200    5\n",
       "3201    5\n",
       "3202    5\n",
       "Name: Shipping Delay, Length: 3203, dtype: int64"
      ]
     },
     "execution_count": 68,
     "metadata": {},
     "output_type": "execute_result"
    }
   ],
   "source": [
    "df['Shipping Delay'] = (df['Ship Date'] - df['Order Date']).dt.days\n",
    "df['Shipping Delay']"
   ]
  },
  {
   "cell_type": "code",
   "execution_count": 69,
   "id": "fd1f0e4b-21b0-4429-9e55-1e8deb80ed4c",
   "metadata": {},
   "outputs": [
    {
     "data": {
      "text/plain": [
       "np.float64(3.930065563534187)"
      ]
     },
     "execution_count": 69,
     "metadata": {},
     "output_type": "execute_result"
    }
   ],
   "source": [
    "## average cost of time from order to ship \n",
    "df['Shipping Delay'].mean()\n"
   ]
  },
  {
   "cell_type": "code",
   "execution_count": 70,
   "id": "2f3c89f9-75d0-463f-b5ad-aeb026addc78",
   "metadata": {},
   "outputs": [
    {
     "data": {
      "text/html": [
       "<div>\n",
       "<style scoped>\n",
       "    .dataframe tbody tr th:only-of-type {\n",
       "        vertical-align: middle;\n",
       "    }\n",
       "\n",
       "    .dataframe tbody tr th {\n",
       "        vertical-align: top;\n",
       "    }\n",
       "\n",
       "    .dataframe thead th {\n",
       "        text-align: right;\n",
       "    }\n",
       "</style>\n",
       "<table border=\"1\" class=\"dataframe\">\n",
       "  <thead>\n",
       "    <tr style=\"text-align: right;\">\n",
       "      <th></th>\n",
       "      <th>Order ID</th>\n",
       "      <th>Order Date</th>\n",
       "      <th>Ship Date</th>\n",
       "      <th>EmailID</th>\n",
       "      <th>Geography</th>\n",
       "      <th>Category</th>\n",
       "      <th>Product Name</th>\n",
       "      <th>Sales</th>\n",
       "      <th>Quantity</th>\n",
       "      <th>Profit</th>\n",
       "      <th>Month</th>\n",
       "      <th>Country</th>\n",
       "      <th>City</th>\n",
       "      <th>State</th>\n",
       "      <th>Order Month</th>\n",
       "      <th>Shipping Delay</th>\n",
       "    </tr>\n",
       "  </thead>\n",
       "  <tbody>\n",
       "    <tr>\n",
       "      <th>2220</th>\n",
       "      <td>US-2013-126452</td>\n",
       "      <td>2013-08-22</td>\n",
       "      <td>2013-08-29</td>\n",
       "      <td>ScotCoram@gmail.com</td>\n",
       "      <td>United States,Los Angeles,California</td>\n",
       "      <td>Accessories</td>\n",
       "      <td>LogitechÂ Gaming G510s - Keyboard</td>\n",
       "      <td>254.97</td>\n",
       "      <td>3.0</td>\n",
       "      <td>91.79</td>\n",
       "      <td>8</td>\n",
       "      <td>United States</td>\n",
       "      <td>Los Angeles</td>\n",
       "      <td>California</td>\n",
       "      <td>2013-08</td>\n",
       "      <td>7</td>\n",
       "    </tr>\n",
       "    <tr>\n",
       "      <th>2219</th>\n",
       "      <td>US-2013-126452</td>\n",
       "      <td>2013-08-22</td>\n",
       "      <td>2013-08-29</td>\n",
       "      <td>ScotCoram@gmail.com</td>\n",
       "      <td>United States,Los Angeles,California</td>\n",
       "      <td>Phones</td>\n",
       "      <td>Motorola HK250 Universal Bluetooth Headset</td>\n",
       "      <td>91.96</td>\n",
       "      <td>5.0</td>\n",
       "      <td>-20.69</td>\n",
       "      <td>8</td>\n",
       "      <td>United States</td>\n",
       "      <td>Los Angeles</td>\n",
       "      <td>California</td>\n",
       "      <td>2013-08</td>\n",
       "      <td>7</td>\n",
       "    </tr>\n",
       "    <tr>\n",
       "      <th>2218</th>\n",
       "      <td>US-2013-126452</td>\n",
       "      <td>2013-08-22</td>\n",
       "      <td>2013-08-29</td>\n",
       "      <td>ScotCoram@gmail.com</td>\n",
       "      <td>United States,Los Angeles,California</td>\n",
       "      <td>Binders</td>\n",
       "      <td>Avery Durable Slant Ring Binders</td>\n",
       "      <td>12.67</td>\n",
       "      <td>2.0</td>\n",
       "      <td>4.75</td>\n",
       "      <td>8</td>\n",
       "      <td>United States</td>\n",
       "      <td>Los Angeles</td>\n",
       "      <td>California</td>\n",
       "      <td>2013-08</td>\n",
       "      <td>7</td>\n",
       "    </tr>\n",
       "    <tr>\n",
       "      <th>2266</th>\n",
       "      <td>CA-2012-166800</td>\n",
       "      <td>2012-11-19</td>\n",
       "      <td>2012-11-26</td>\n",
       "      <td>AleksandraGannaway@gmail.com</td>\n",
       "      <td>United States,Las Vegas,Nevada</td>\n",
       "      <td>Appliances</td>\n",
       "      <td>Hoover Commercial Soft Guard Upright Vacuum An...</td>\n",
       "      <td>31.08</td>\n",
       "      <td>4.0</td>\n",
       "      <td>8.39</td>\n",
       "      <td>11</td>\n",
       "      <td>United States</td>\n",
       "      <td>Las Vegas</td>\n",
       "      <td>Nevada</td>\n",
       "      <td>2012-11</td>\n",
       "      <td>7</td>\n",
       "    </tr>\n",
       "    <tr>\n",
       "      <th>2253</th>\n",
       "      <td>CA-2012-115420</td>\n",
       "      <td>2012-04-25</td>\n",
       "      <td>2012-05-02</td>\n",
       "      <td>LindaSouthworth@gmail.com</td>\n",
       "      <td>United States,Los Angeles,California</td>\n",
       "      <td>Envelopes</td>\n",
       "      <td>Laser &amp; Ink Jet Business Envelopes</td>\n",
       "      <td>21.34</td>\n",
       "      <td>2.0</td>\n",
       "      <td>9.82</td>\n",
       "      <td>4</td>\n",
       "      <td>United States</td>\n",
       "      <td>Los Angeles</td>\n",
       "      <td>California</td>\n",
       "      <td>2012-04</td>\n",
       "      <td>7</td>\n",
       "    </tr>\n",
       "    <tr>\n",
       "      <th>1347</th>\n",
       "      <td>CA-2011-125829</td>\n",
       "      <td>2011-11-04</td>\n",
       "      <td>2011-11-11</td>\n",
       "      <td>WilliamBrown@gmail.com</td>\n",
       "      <td>United States,Los Angeles,California</td>\n",
       "      <td>Phones</td>\n",
       "      <td>Polycom SoundPoint Pro SE-225 Corded phone</td>\n",
       "      <td>666.34</td>\n",
       "      <td>7.0</td>\n",
       "      <td>66.63</td>\n",
       "      <td>11</td>\n",
       "      <td>United States</td>\n",
       "      <td>Los Angeles</td>\n",
       "      <td>California</td>\n",
       "      <td>2011-11</td>\n",
       "      <td>7</td>\n",
       "    </tr>\n",
       "    <tr>\n",
       "      <th>34</th>\n",
       "      <td>US-2014-107272</td>\n",
       "      <td>2014-11-06</td>\n",
       "      <td>2014-11-13</td>\n",
       "      <td>TroyStaebel@gmail.com</td>\n",
       "      <td>United States,Phoenix,Arizona</td>\n",
       "      <td>Binders</td>\n",
       "      <td>Avery Durable Slant Ring Binders, No Labels</td>\n",
       "      <td>2.39</td>\n",
       "      <td>2.0</td>\n",
       "      <td>-1.83</td>\n",
       "      <td>11</td>\n",
       "      <td>United States</td>\n",
       "      <td>Phoenix</td>\n",
       "      <td>Arizona</td>\n",
       "      <td>2014-11</td>\n",
       "      <td>7</td>\n",
       "    </tr>\n",
       "    <tr>\n",
       "      <th>3140</th>\n",
       "      <td>CA-2014-137918</td>\n",
       "      <td>2014-09-30</td>\n",
       "      <td>2014-10-07</td>\n",
       "      <td>JoeKamberova@gmail.com</td>\n",
       "      <td>United States,Lodi,California</td>\n",
       "      <td>Supplies</td>\n",
       "      <td>Acme Hot Forged Carbon Steel Scissors with Nic...</td>\n",
       "      <td>97.30</td>\n",
       "      <td>7.0</td>\n",
       "      <td>28.22</td>\n",
       "      <td>9</td>\n",
       "      <td>United States</td>\n",
       "      <td>Lodi</td>\n",
       "      <td>California</td>\n",
       "      <td>2014-09</td>\n",
       "      <td>7</td>\n",
       "    </tr>\n",
       "    <tr>\n",
       "      <th>3139</th>\n",
       "      <td>CA-2014-142328</td>\n",
       "      <td>2014-12-08</td>\n",
       "      <td>2014-12-15</td>\n",
       "      <td>TracyCollins@gmail.com</td>\n",
       "      <td>United States,San Francisco,California</td>\n",
       "      <td>Paper</td>\n",
       "      <td>REDIFORM Incoming/Outgoing Call Register, 11\" ...</td>\n",
       "      <td>50.04</td>\n",
       "      <td>6.0</td>\n",
       "      <td>25.02</td>\n",
       "      <td>12</td>\n",
       "      <td>United States</td>\n",
       "      <td>San Francisco</td>\n",
       "      <td>California</td>\n",
       "      <td>2014-12</td>\n",
       "      <td>7</td>\n",
       "    </tr>\n",
       "    <tr>\n",
       "      <th>589</th>\n",
       "      <td>CA-2013-105963</td>\n",
       "      <td>2013-11-16</td>\n",
       "      <td>2013-11-23</td>\n",
       "      <td>StewartCarmichael@gmail.com</td>\n",
       "      <td>United States,Los Angeles,California</td>\n",
       "      <td>Accessories</td>\n",
       "      <td>ImationÂ 16GB Mini TravelDrive USB 2.0Â Flash ...</td>\n",
       "      <td>99.39</td>\n",
       "      <td>3.0</td>\n",
       "      <td>40.75</td>\n",
       "      <td>11</td>\n",
       "      <td>United States</td>\n",
       "      <td>Los Angeles</td>\n",
       "      <td>California</td>\n",
       "      <td>2013-11</td>\n",
       "      <td>7</td>\n",
       "    </tr>\n",
       "  </tbody>\n",
       "</table>\n",
       "</div>"
      ],
      "text/plain": [
       "            Order ID Order Date  Ship Date                       EmailID  \\\n",
       "2220  US-2013-126452 2013-08-22 2013-08-29           ScotCoram@gmail.com   \n",
       "2219  US-2013-126452 2013-08-22 2013-08-29           ScotCoram@gmail.com   \n",
       "2218  US-2013-126452 2013-08-22 2013-08-29           ScotCoram@gmail.com   \n",
       "2266  CA-2012-166800 2012-11-19 2012-11-26  AleksandraGannaway@gmail.com   \n",
       "2253  CA-2012-115420 2012-04-25 2012-05-02     LindaSouthworth@gmail.com   \n",
       "1347  CA-2011-125829 2011-11-04 2011-11-11        WilliamBrown@gmail.com   \n",
       "34    US-2014-107272 2014-11-06 2014-11-13         TroyStaebel@gmail.com   \n",
       "3140  CA-2014-137918 2014-09-30 2014-10-07        JoeKamberova@gmail.com   \n",
       "3139  CA-2014-142328 2014-12-08 2014-12-15        TracyCollins@gmail.com   \n",
       "589   CA-2013-105963 2013-11-16 2013-11-23   StewartCarmichael@gmail.com   \n",
       "\n",
       "                                   Geography     Category  \\\n",
       "2220    United States,Los Angeles,California  Accessories   \n",
       "2219    United States,Los Angeles,California       Phones   \n",
       "2218    United States,Los Angeles,California      Binders   \n",
       "2266          United States,Las Vegas,Nevada   Appliances   \n",
       "2253    United States,Los Angeles,California    Envelopes   \n",
       "1347    United States,Los Angeles,California       Phones   \n",
       "34             United States,Phoenix,Arizona      Binders   \n",
       "3140           United States,Lodi,California     Supplies   \n",
       "3139  United States,San Francisco,California        Paper   \n",
       "589     United States,Los Angeles,California  Accessories   \n",
       "\n",
       "                                           Product Name   Sales  Quantity  \\\n",
       "2220                  LogitechÂ Gaming G510s - Keyboard  254.97       3.0   \n",
       "2219         Motorola HK250 Universal Bluetooth Headset   91.96       5.0   \n",
       "2218                   Avery Durable Slant Ring Binders   12.67       2.0   \n",
       "2266  Hoover Commercial Soft Guard Upright Vacuum An...   31.08       4.0   \n",
       "2253                 Laser & Ink Jet Business Envelopes   21.34       2.0   \n",
       "1347         Polycom SoundPoint Pro SE-225 Corded phone  666.34       7.0   \n",
       "34          Avery Durable Slant Ring Binders, No Labels    2.39       2.0   \n",
       "3140  Acme Hot Forged Carbon Steel Scissors with Nic...   97.30       7.0   \n",
       "3139  REDIFORM Incoming/Outgoing Call Register, 11\" ...   50.04       6.0   \n",
       "589   ImationÂ 16GB Mini TravelDrive USB 2.0Â Flash ...   99.39       3.0   \n",
       "\n",
       "      Profit  Month        Country           City       State Order Month  \\\n",
       "2220   91.79      8  United States    Los Angeles  California     2013-08   \n",
       "2219  -20.69      8  United States    Los Angeles  California     2013-08   \n",
       "2218    4.75      8  United States    Los Angeles  California     2013-08   \n",
       "2266    8.39     11  United States      Las Vegas      Nevada     2012-11   \n",
       "2253    9.82      4  United States    Los Angeles  California     2012-04   \n",
       "1347   66.63     11  United States    Los Angeles  California     2011-11   \n",
       "34     -1.83     11  United States        Phoenix     Arizona     2014-11   \n",
       "3140   28.22      9  United States           Lodi  California     2014-09   \n",
       "3139   25.02     12  United States  San Francisco  California     2014-12   \n",
       "589    40.75     11  United States    Los Angeles  California     2013-11   \n",
       "\n",
       "      Shipping Delay  \n",
       "2220               7  \n",
       "2219               7  \n",
       "2218               7  \n",
       "2266               7  \n",
       "2253               7  \n",
       "1347               7  \n",
       "34                 7  \n",
       "3140               7  \n",
       "3139               7  \n",
       "589                7  "
      ]
     },
     "execution_count": 70,
     "metadata": {},
     "output_type": "execute_result"
    }
   ],
   "source": [
    "## lowest ten orders \n",
    "df.sort_values(by='Shipping Delay', ascending=False).head(10)\n"
   ]
  },
  {
   "cell_type": "code",
   "execution_count": 71,
   "id": "dfd6124d-1c42-4afc-a205-2aa5731c673c",
   "metadata": {},
   "outputs": [
    {
     "data": {
      "text/plain": [
       "Category\n",
       "Accessories    3.980620\n",
       "Appliances     4.088235\n",
       "Art            4.024000\n",
       "Binders        3.891720\n",
       "Bookcases      3.525000\n",
       "Chairs         3.821256\n",
       "Copiers        3.240000\n",
       "Envelopes      3.925373\n",
       "Fasteners      3.819444\n",
       "Furnishings    4.006579\n",
       "Labels         4.034483\n",
       "Machines       3.974359\n",
       "Paper          3.822222\n",
       "Phones         4.021661\n",
       "Storage        4.018797\n",
       "Supplies       4.000000\n",
       "Tables         3.913793\n",
       "Name: Shipping Delay, dtype: float64"
      ]
     },
     "execution_count": 71,
     "metadata": {},
     "output_type": "execute_result"
    }
   ],
   "source": [
    "## time to ship in different category \n",
    "df.groupby('Category')['Shipping Delay'].mean()\n"
   ]
  },
  {
   "cell_type": "code",
   "execution_count": 72,
   "id": "87c688f9-b490-4626-b40c-684f0e3da8d9",
   "metadata": {},
   "outputs": [
    {
     "data": {
      "image/png": "[encoded data removed]",
      "text/plain": [
       "<Figure size 1000x600 with 1 Axes>"
      ]
     },
     "metadata": {},
     "output_type": "display_data"
    }
   ],
   "source": [
    "import matplotlib.pyplot as plt\n",
    "\n",
    "# 对 Shipping Delay 结果排序（从高到低）\n",
    "shipping_delay_by_category = df.groupby('Category')['Shipping Delay'].mean().sort_values(ascending=True)\n",
    "\n",
    "# 创建横向柱状图\n",
    "plt.figure(figsize=(10, 6))\n",
    "shipping_delay_by_category.plot(kind='barh', color='skyblue')\n",
    "\n",
    "plt.title('Average Shipping Delay by Product Category')\n",
    "plt.xlabel('Days to Ship')\n",
    "plt.ylabel('Product Category')\n",
    "plt.grid(axis='x', linestyle='--', alpha=0.6)\n",
    "plt.tight_layout()\n",
    "plt.show()\n"
   ]
  },
  {
   "cell_type": "code",
   "execution_count": 73,
   "id": "0f58e764-5b7a-4caa-8ae9-ec165b734dd2",
   "metadata": {},
   "outputs": [
    {
     "data": {
      "text/plain": [
       "State\n",
       "Idaho         3.666667\n",
       "Colorado      3.681319\n",
       "California    3.868066\n",
       "Washington    3.974308\n",
       "Arizona       4.071429\n",
       "Oregon        4.314516\n",
       "Utah          4.358491\n",
       "Nevada        4.384615\n",
       "New Mexico    4.513514\n",
       "Montana       4.600000\n",
       "Wyoming       5.000000\n",
       "Name: Shipping Delay, dtype: float64"
      ]
     },
     "execution_count": 73,
     "metadata": {},
     "output_type": "execute_result"
    }
   ],
   "source": [
    "## average time to ship in different state\n",
    "df.groupby('State')['Shipping Delay'].mean().sort_values()"
   ]
  },
  {
   "cell_type": "code",
   "execution_count": 74,
   "id": "5507d9ae-71a0-4ad9-ab53-10b2ecf6522b",
   "metadata": {
    "scrolled": true
   },
   "outputs": [
    {
     "data": {
      "image/png": "[encoded data removed]",
      "text/plain": [
       "<Figure size 1000x600 with 1 Axes>"
      ]
     },
     "metadata": {},
     "output_type": "display_data"
    }
   ],
   "source": [
    "import matplotlib.pyplot as plt\n",
    "\n",
    "# 分组并排序\n",
    "shipping_delay_by_state = df.groupby('State')['Shipping Delay'].mean().sort_values(ascending=True)\n",
    "\n",
    "# 绘图\n",
    "plt.figure(figsize=(10, 6))\n",
    "shipping_delay_by_state.plot(kind='barh', color='coral')\n",
    "\n",
    "plt.title('Average Shipping Delay by State')\n",
    "plt.xlabel('Days to Ship')\n",
    "plt.ylabel('State')\n",
    "plt.grid(axis='x', linestyle='--', alpha=0.5)\n",
    "plt.tight_layout()\n",
    "plt.show()\n"
   ]
  },
  {
   "cell_type": "code",
   "execution_count": null,
   "id": "b6db79f7-5648-4911-ac2b-4bdc277ec95f",
   "metadata": {},
   "outputs": [],
   "source": []
  },
  {
   "cell_type": "code",
   "execution_count": null,
   "id": "f5e711df-d964-41f0-a8c7-67c0ac419845",
   "metadata": {},
   "outputs": [],
   "source": [
    " ^[[200~https://github.com/NSS-Data-Analytics-Cohort-14/da14-python-assessment-pumpkins-Newbeebeep-1.gi\n"
   ]
  },
  {
   "cell_type": "code",
   "execution_count": null,
   "id": "233cf8b9-a30b-4942-a79b-e96357a759e6",
   "metadata": {},
   "outputs": [],
   "source": [
    "https://github.com/NSS-Data-Analytics-Cohort-14/da14-python-assessment-pumpkins-Newbeebeep-1.git"
   ]
  },
  {
   "cell_type": "code",
   "execution_count": null,
   "id": "b5b610a3-9c88-4952-a11e-a7ad965aa9ac",
   "metadata": {},
   "outputs": [],
   "source": []
  }
 ],
 "metadata": {
  "kernelspec": {
   "display_name": "Python 3 (ipykernel)",
   "language": "python",
   "name": "python3"
  },
  "language_info": {
   "codemirror_mode": {
    "name": "ipython",
    "version": 3
   },
   "file_extension": ".py",
   "mimetype": "text/x-python",
   "name": "python",
   "nbconvert_exporter": "python",
   "pygments_lexer": "ipython3",
   "version": "3.10.17"
  }
 },
 "nbformat": 4,
 "nbformat_minor": 5
}
